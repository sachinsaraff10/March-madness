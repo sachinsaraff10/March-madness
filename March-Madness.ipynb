{
  "metadata": {
    "kernelspec": {
      "language": "python",
      "display_name": "Python 3",
      "name": "python3"
    },
    "language_info": {
      "name": "python",
      "version": "3.10.12",
      "mimetype": "text/x-python",
      "codemirror_mode": {
        "name": "ipython",
        "version": 3
      },
      "pygments_lexer": "ipython3",
      "nbconvert_exporter": "python",
      "file_extension": ".py"
    },
    "kaggle": {
      "accelerator": "nvidiaTeslaT4",
      "dataSources": [
        {
          "sourceId": 91497,
          "databundleVersionId": 11484718,
          "sourceType": "competition"
        }
      ],
      "dockerImageVersionId": 30918,
      "isInternetEnabled": true,
      "language": "python",
      "sourceType": "notebook",
      "isGpuEnabled": true
    },
    "colab": {
      "provenance": [],
      "include_colab_link": true
    }
  },
  "nbformat_minor": 0,
  "nbformat": 4,
  "cells": [
    {
      "cell_type": "markdown",
      "metadata": {
        "id": "view-in-github",
        "colab_type": "text"
      },
      "source": [
        "<a href=\"https://colab.research.google.com/github/sachinsaraff10/March-madness/blob/main/March-Madness.ipynb\" target=\"_parent\"><img src=\"https://colab.research.google.com/assets/colab-badge.svg\" alt=\"Open In Colab\"/></a>"
      ]
    },
    {
      "source": [
        "# IMPORTANT: SOME KAGGLE DATA SOURCES ARE PRIVATE\n",
        "# RUN THIS CELL IN ORDER TO IMPORT YOUR KAGGLE DATA SOURCES.\n",
        "import kagglehub\n",
        "kagglehub.login()\n"
      ],
      "metadata": {
        "id": "1ZIGT0xDYTZ1"
      },
      "cell_type": "code",
      "outputs": [],
      "execution_count": null
    },
    {
      "source": [
        "# IMPORTANT: RUN THIS CELL IN ORDER TO IMPORT YOUR KAGGLE DATA SOURCES,\n",
        "# THEN FEEL FREE TO DELETE THIS CELL.\n",
        "# NOTE: THIS NOTEBOOK ENVIRONMENT DIFFERS FROM KAGGLE'S PYTHON\n",
        "# ENVIRONMENT SO THERE MAY BE MISSING LIBRARIES USED BY YOUR\n",
        "# NOTEBOOK.\n",
        "\n",
        "march_machine_learning_mania_2025_path = kagglehub.competition_download('march-machine-learning-mania-2025')\n",
        "\n",
        "print('Data source import complete.')\n"
      ],
      "metadata": {
        "id": "tAL8oUeKYTZ2"
      },
      "cell_type": "code",
      "outputs": [],
      "execution_count": null
    },
    {
      "cell_type": "code",
      "source": [
        "# This Python 3 environment comes with many helpful analytics libraries installed\n",
        "# It is defined by the kaggle/python Docker image: https://github.com/kaggle/docker-python\n",
        "# For example, here's several helpful packages to load\n",
        "\n",
        "import numpy as np # linear algebra\n",
        "import pandas as pd # data processing, CSV file I/O (e.g. pd.read_csv)\n",
        "\n",
        "# Input data files are available in the read-only \"../input/\" directory\n",
        "# For example, running this (by clicking run or pressing Shift+Enter) will list all files under the input directory\n",
        "\n",
        "import os\n",
        "for dirname, _, filenames in os.walk('/kaggle/input'):\n",
        "    for filename in filenames:\n",
        "        print(os.path.join(dirname, filename))\n",
        "\n",
        "# You can write up to 20GB to the current directory (/kaggle/working/) that gets preserved as output when you create a version using \"Save & Run All\"\n",
        "# You can also write temporary files to /kaggle/temp/, but they won't be saved outside of the current session"
      ],
      "metadata": {
        "_uuid": "8f2839f25d086af736a60e9eeb907d3b93b6e0e5",
        "_cell_guid": "b1076dfc-b9ad-4769-8c92-a6c4dae69d19",
        "trusted": true,
        "execution": {
          "iopub.status.busy": "2025-03-25T07:33:22.863592Z",
          "iopub.execute_input": "2025-03-25T07:33:22.863899Z",
          "iopub.status.idle": "2025-03-25T07:33:22.885251Z",
          "shell.execute_reply.started": "2025-03-25T07:33:22.86387Z",
          "shell.execute_reply": "2025-03-25T07:33:22.881113Z"
        },
        "id": "7ZN4ysJHYTZ3",
        "outputId": "e373f01e-b911-4878-e366-ae18f17d3323"
      },
      "outputs": [
        {
          "name": "stdout",
          "text": "/kaggle/input/march-machine-learning-mania-2025/Conferences.csv\n/kaggle/input/march-machine-learning-mania-2025/SeedBenchmarkStage1.csv\n/kaggle/input/march-machine-learning-mania-2025/WNCAATourneyDetailedResults.csv\n/kaggle/input/march-machine-learning-mania-2025/WRegularSeasonCompactResults.csv\n/kaggle/input/march-machine-learning-mania-2025/MNCAATourneySeedRoundSlots.csv\n/kaggle/input/march-machine-learning-mania-2025/MRegularSeasonDetailedResults.csv\n/kaggle/input/march-machine-learning-mania-2025/MNCAATourneyCompactResults.csv\n/kaggle/input/march-machine-learning-mania-2025/MGameCities.csv\n/kaggle/input/march-machine-learning-mania-2025/WSecondaryTourneyCompactResults.csv\n/kaggle/input/march-machine-learning-mania-2025/WGameCities.csv\n/kaggle/input/march-machine-learning-mania-2025/MSeasons.csv\n/kaggle/input/march-machine-learning-mania-2025/WNCAATourneySlots.csv\n/kaggle/input/march-machine-learning-mania-2025/MSecondaryTourneyTeams.csv\n/kaggle/input/march-machine-learning-mania-2025/SampleSubmissionStage2.csv\n/kaggle/input/march-machine-learning-mania-2025/Cities.csv\n/kaggle/input/march-machine-learning-mania-2025/MTeamSpellings.csv\n/kaggle/input/march-machine-learning-mania-2025/MRegularSeasonCompactResults.csv\n/kaggle/input/march-machine-learning-mania-2025/MMasseyOrdinals.csv\n/kaggle/input/march-machine-learning-mania-2025/MSecondaryTourneyCompactResults.csv\n/kaggle/input/march-machine-learning-mania-2025/WTeams.csv\n/kaggle/input/march-machine-learning-mania-2025/WConferenceTourneyGames.csv\n/kaggle/input/march-machine-learning-mania-2025/MNCAATourneySlots.csv\n/kaggle/input/march-machine-learning-mania-2025/MNCAATourneySeeds.csv\n/kaggle/input/march-machine-learning-mania-2025/WNCAATourneyCompactResults.csv\n/kaggle/input/march-machine-learning-mania-2025/WSeasons.csv\n/kaggle/input/march-machine-learning-mania-2025/WNCAATourneySeeds.csv\n/kaggle/input/march-machine-learning-mania-2025/MTeamCoaches.csv\n/kaggle/input/march-machine-learning-mania-2025/MConferenceTourneyGames.csv\n/kaggle/input/march-machine-learning-mania-2025/WRegularSeasonDetailedResults.csv\n/kaggle/input/march-machine-learning-mania-2025/MNCAATourneyDetailedResults.csv\n/kaggle/input/march-machine-learning-mania-2025/WTeamSpellings.csv\n/kaggle/input/march-machine-learning-mania-2025/MTeamConferences.csv\n/kaggle/input/march-machine-learning-mania-2025/MTeams.csv\n/kaggle/input/march-machine-learning-mania-2025/WTeamConferences.csv\n/kaggle/input/march-machine-learning-mania-2025/SampleSubmissionStage1.csv\n/kaggle/input/march-machine-learning-mania-2025/WSecondaryTourneyTeams.csv\n",
          "output_type": "stream"
        }
      ],
      "execution_count": null
    },
    {
      "cell_type": "code",
      "source": [
        "import cudf  # this should work without any errors\n",
        "\n",
        "%load_ext cudf.pandas"
      ],
      "metadata": {
        "trusted": true,
        "execution": {
          "iopub.status.busy": "2025-03-25T07:33:22.886312Z",
          "iopub.execute_input": "2025-03-25T07:33:22.886588Z",
          "iopub.status.idle": "2025-03-25T07:33:28.796954Z",
          "shell.execute_reply.started": "2025-03-25T07:33:22.886568Z",
          "shell.execute_reply": "2025-03-25T07:33:28.79624Z"
        },
        "id": "VW8o3rhmYTZ3"
      },
      "outputs": [],
      "execution_count": null
    },
    {
      "cell_type": "code",
      "source": [
        "path = \"/kaggle/input/march-machine-learning-mania-2025/\""
      ],
      "metadata": {
        "trusted": true,
        "execution": {
          "iopub.status.busy": "2025-03-25T07:33:28.79881Z",
          "iopub.execute_input": "2025-03-25T07:33:28.799239Z",
          "iopub.status.idle": "2025-03-25T07:33:28.802752Z",
          "shell.execute_reply.started": "2025-03-25T07:33:28.799216Z",
          "shell.execute_reply": "2025-03-25T07:33:28.80181Z"
        },
        "id": "7kjnlP95YTZ4"
      },
      "outputs": [],
      "execution_count": null
    },
    {
      "cell_type": "code",
      "source": [
        "seeds = pd.concat([pd.read_csv(path+\"MNCAATourneySeeds.csv\").assign(League=\"M\"),\n",
        "        pd.read_csv(path+\"WNCAATourneySeeds.csv\").assign(League=\"W\"),],).reset_index(drop=True)"
      ],
      "metadata": {
        "trusted": true,
        "execution": {
          "iopub.status.busy": "2025-03-25T07:33:28.803917Z",
          "iopub.execute_input": "2025-03-25T07:33:28.804141Z",
          "iopub.status.idle": "2025-03-25T07:33:28.93355Z",
          "shell.execute_reply.started": "2025-03-25T07:33:28.804123Z",
          "shell.execute_reply": "2025-03-25T07:33:28.932617Z"
        },
        "id": "TzT7beGkYTZ4"
      },
      "outputs": [],
      "execution_count": null
    },
    {
      "cell_type": "code",
      "source": [
        "\n",
        "tournamentres = pd.concat(\n",
        "    [pd.read_csv(path + \"MNCAATourneyDetailedResults.csv\").assign(League=\"M\"),\n",
        "        pd.read_csv(path + \"WNCAATourneyDetailedResults.csv\").assign(League=\"W\"),]\n",
        ").reset_index(drop=True)"
      ],
      "metadata": {
        "trusted": true,
        "execution": {
          "iopub.status.busy": "2025-03-25T07:33:28.934413Z",
          "iopub.execute_input": "2025-03-25T07:33:28.934672Z",
          "iopub.status.idle": "2025-03-25T07:33:28.958408Z",
          "shell.execute_reply.started": "2025-03-25T07:33:28.934651Z",
          "shell.execute_reply": "2025-03-25T07:33:28.957824Z"
        },
        "id": "ByMaBpFvYTZ4"
      },
      "outputs": [],
      "execution_count": null
    },
    {
      "cell_type": "code",
      "source": [
        "regulardetailedres = pd.concat(\n",
        "    [pd.read_csv(path + \"MRegularSeasonDetailedResults.csv\").assign(League=\"M\"),\n",
        "        pd.read_csv(path + \"WRegularSeasonDetailedResults.csv\").assign(League=\"W\"),]\n",
        ").reset_index(drop=True)\n"
      ],
      "metadata": {
        "trusted": true,
        "execution": {
          "iopub.status.busy": "2025-03-25T07:33:28.959076Z",
          "iopub.execute_input": "2025-03-25T07:33:28.95935Z",
          "iopub.status.idle": "2025-03-25T07:33:29.685929Z",
          "shell.execute_reply.started": "2025-03-25T07:33:28.95933Z",
          "shell.execute_reply": "2025-03-25T07:33:29.685226Z"
        },
        "id": "xC5SngcyYTZ4"
      },
      "outputs": [],
      "execution_count": null
    },
    {
      "cell_type": "code",
      "source": [
        "detailedcols = regulardetailedres.columns"
      ],
      "metadata": {
        "trusted": true,
        "execution": {
          "iopub.status.busy": "2025-03-25T07:33:29.686754Z",
          "iopub.execute_input": "2025-03-25T07:33:29.68699Z",
          "iopub.status.idle": "2025-03-25T07:33:29.6906Z",
          "shell.execute_reply.started": "2025-03-25T07:33:29.68697Z",
          "shell.execute_reply": "2025-03-25T07:33:29.689729Z"
        },
        "id": "7BmJeA-QYTZ4"
      },
      "outputs": [],
      "execution_count": null
    },
    {
      "cell_type": "code",
      "source": [
        "def rename_winners(col):\n",
        "    if col.startswith('W'):\n",
        "        return col[1:]\n",
        "    elif col.startswith('L') and col!='League':\n",
        "        return 'Opp' + col[1:]\n",
        "    return col"
      ],
      "metadata": {
        "trusted": true,
        "execution": {
          "iopub.status.busy": "2025-03-25T07:33:29.691435Z",
          "iopub.execute_input": "2025-03-25T07:33:29.691713Z",
          "iopub.status.idle": "2025-03-25T07:33:29.703002Z",
          "shell.execute_reply.started": "2025-03-25T07:33:29.691682Z",
          "shell.execute_reply": "2025-03-25T07:33:29.702296Z"
        },
        "id": "sw0ZZBbCYTZ4"
      },
      "outputs": [],
      "execution_count": null
    },
    {
      "cell_type": "code",
      "source": [
        "def rename_losers(col):\n",
        "    if col.startswith('L') and col!='League':\n",
        "        return col[1:]\n",
        "    elif col.startswith('W'):\n",
        "        return 'Opp' + col[1:]\n",
        "    return col"
      ],
      "metadata": {
        "trusted": true,
        "execution": {
          "iopub.status.busy": "2025-03-25T07:33:29.705843Z",
          "iopub.execute_input": "2025-03-25T07:33:29.706074Z",
          "iopub.status.idle": "2025-03-25T07:33:29.713382Z",
          "shell.execute_reply.started": "2025-03-25T07:33:29.706056Z",
          "shell.execute_reply": "2025-03-25T07:33:29.712396Z"
        },
        "id": "FTdBf_RWYTZ5"
      },
      "outputs": [],
      "execution_count": null
    },
    {
      "cell_type": "code",
      "source": [
        "regulardetailedres = pd.concat([\n",
        "    regulardetailedres[detailedcols].assign(\n",
        "        Result = 'W')\n",
        "    .rename(columns=lambda col: rename_winners(col)),\n",
        "    regulardetailedres[detailedcols].assign(\n",
        "        Result = 'L')\n",
        "    .rename(columns=lambda col: rename_losers(col))\n",
        "])"
      ],
      "metadata": {
        "trusted": true,
        "execution": {
          "iopub.status.busy": "2025-03-25T07:33:29.71535Z",
          "iopub.execute_input": "2025-03-25T07:33:29.7156Z",
          "iopub.status.idle": "2025-03-25T07:33:29.923995Z",
          "shell.execute_reply.started": "2025-03-25T07:33:29.715581Z",
          "shell.execute_reply": "2025-03-25T07:33:29.923049Z"
        },
        "id": "TmJddGJhYTZ5"
      },
      "outputs": [],
      "execution_count": null
    },
    {
      "cell_type": "code",
      "source": [
        "regulardetailedres.drop(columns=['Loc','OppLoc'],inplace=True)"
      ],
      "metadata": {
        "trusted": true,
        "execution": {
          "iopub.status.busy": "2025-03-25T07:33:29.924918Z",
          "iopub.execute_input": "2025-03-25T07:33:29.925234Z",
          "iopub.status.idle": "2025-03-25T07:33:30.030184Z",
          "shell.execute_reply.started": "2025-03-25T07:33:29.925212Z",
          "shell.execute_reply": "2025-03-25T07:33:30.029542Z"
        },
        "id": "jHNzAx4cYTZ5"
      },
      "outputs": [],
      "execution_count": null
    },
    {
      "cell_type": "code",
      "source": [
        "regulardetailedres.isna().sum()"
      ],
      "metadata": {
        "trusted": true,
        "execution": {
          "iopub.status.busy": "2025-03-25T07:33:30.030876Z",
          "iopub.execute_input": "2025-03-25T07:33:30.031141Z",
          "iopub.status.idle": "2025-03-25T07:33:30.089544Z",
          "shell.execute_reply.started": "2025-03-25T07:33:30.031121Z",
          "shell.execute_reply": "2025-03-25T07:33:30.088739Z"
        },
        "id": "zPHtESOxYTZ5",
        "outputId": "873eacef-34d2-442e-ed78-744044decc7b"
      },
      "outputs": [
        {
          "execution_count": 12,
          "output_type": "execute_result",
          "data": {
            "text/plain": "Season       0\nDayNum       0\nTeamID       0\nScore        0\nOppTeamID    0\nOppScore     0\nNumOT        0\nFGM          0\nFGA          0\nFGM3         0\nFGA3         0\nFTM          0\nFTA          0\nOR           0\nDR           0\nAst          0\nTO           0\nStl          0\nBlk          0\nPF           0\nOppFGM       0\nOppFGA       0\nOppFGM3      0\nOppFGA3      0\nOppFTM       0\nOppFTA       0\nOppOR        0\nOppDR        0\nOppAst       0\nOppTO        0\nOppStl       0\nOppBlk       0\nOppPF        0\nLeague       0\nResult       0\ndtype: int64"
          },
          "metadata": {}
        }
      ],
      "execution_count": null
    },
    {
      "cell_type": "code",
      "source": [
        "regulardetailedres['Win'] = (regulardetailedres['Result']=='W').astype('int')"
      ],
      "metadata": {
        "trusted": true,
        "execution": {
          "iopub.status.busy": "2025-03-25T07:33:30.090143Z",
          "iopub.execute_input": "2025-03-25T07:33:30.090367Z",
          "iopub.status.idle": "2025-03-25T07:33:30.11852Z",
          "shell.execute_reply.started": "2025-03-25T07:33:30.090349Z",
          "shell.execute_reply": "2025-03-25T07:33:30.11787Z"
        },
        "id": "zLfCscEmYTZ5"
      },
      "outputs": [],
      "execution_count": null
    },
    {
      "cell_type": "code",
      "source": [
        "seeds[\"Seed\"]= (\n",
        "    seeds[\"Seed\"].str.replace(\"a\", \"\").str.replace(\"b\", \"\").str[1:].astype(\"int\")\n",
        ")\n"
      ],
      "metadata": {
        "trusted": true,
        "execution": {
          "iopub.status.busy": "2025-03-25T07:33:30.119366Z",
          "iopub.execute_input": "2025-03-25T07:33:30.119646Z",
          "iopub.status.idle": "2025-03-25T07:33:30.133163Z",
          "shell.execute_reply.started": "2025-03-25T07:33:30.119626Z",
          "shell.execute_reply": "2025-03-25T07:33:30.132433Z"
        },
        "id": "Wb2Lq6t4YTZ6"
      },
      "outputs": [],
      "execution_count": null
    },
    {
      "cell_type": "code",
      "source": [
        "seeds\n"
      ],
      "metadata": {
        "trusted": true,
        "execution": {
          "iopub.status.busy": "2025-03-25T07:33:30.134042Z",
          "iopub.execute_input": "2025-03-25T07:33:30.13426Z",
          "iopub.status.idle": "2025-03-25T07:33:30.153382Z",
          "shell.execute_reply.started": "2025-03-25T07:33:30.134242Z",
          "shell.execute_reply": "2025-03-25T07:33:30.152452Z"
        },
        "id": "qwlcKvagYTZ6",
        "outputId": "4ff716e2-f0d6-4894-c9be-6ca15872e336"
      },
      "outputs": [
        {
          "execution_count": 15,
          "output_type": "execute_result",
          "data": {
            "text/plain": "      Season  Seed  TeamID League\n0       1985     1    1207      M\n1       1985     2    1210      M\n2       1985     3    1228      M\n3       1985     4    1260      M\n4       1985     5    1374      M\n...      ...   ...     ...    ...\n4365    2025    12    3193      W\n4366    2025    13    3251      W\n4367    2025    14    3195      W\n4368    2025    15    3117      W\n4369    2025    16    3422      W\n\n[4370 rows x 4 columns]",
            "text/html": "<div>\n<style scoped>\n    .dataframe tbody tr th:only-of-type {\n        vertical-align: middle;\n    }\n\n    .dataframe tbody tr th {\n        vertical-align: top;\n    }\n\n    .dataframe thead th {\n        text-align: right;\n    }\n</style>\n<table border=\"1\" class=\"dataframe\">\n  <thead>\n    <tr style=\"text-align: right;\">\n      <th></th>\n      <th>Season</th>\n      <th>Seed</th>\n      <th>TeamID</th>\n      <th>League</th>\n    </tr>\n  </thead>\n  <tbody>\n    <tr>\n      <th>0</th>\n      <td>1985</td>\n      <td>1</td>\n      <td>1207</td>\n      <td>M</td>\n    </tr>\n    <tr>\n      <th>1</th>\n      <td>1985</td>\n      <td>2</td>\n      <td>1210</td>\n      <td>M</td>\n    </tr>\n    <tr>\n      <th>2</th>\n      <td>1985</td>\n      <td>3</td>\n      <td>1228</td>\n      <td>M</td>\n    </tr>\n    <tr>\n      <th>3</th>\n      <td>1985</td>\n      <td>4</td>\n      <td>1260</td>\n      <td>M</td>\n    </tr>\n    <tr>\n      <th>4</th>\n      <td>1985</td>\n      <td>5</td>\n      <td>1374</td>\n      <td>M</td>\n    </tr>\n    <tr>\n      <th>...</th>\n      <td>...</td>\n      <td>...</td>\n      <td>...</td>\n      <td>...</td>\n    </tr>\n    <tr>\n      <th>4365</th>\n      <td>2025</td>\n      <td>12</td>\n      <td>3193</td>\n      <td>W</td>\n    </tr>\n    <tr>\n      <th>4366</th>\n      <td>2025</td>\n      <td>13</td>\n      <td>3251</td>\n      <td>W</td>\n    </tr>\n    <tr>\n      <th>4367</th>\n      <td>2025</td>\n      <td>14</td>\n      <td>3195</td>\n      <td>W</td>\n    </tr>\n    <tr>\n      <th>4368</th>\n      <td>2025</td>\n      <td>15</td>\n      <td>3117</td>\n      <td>W</td>\n    </tr>\n    <tr>\n      <th>4369</th>\n      <td>2025</td>\n      <td>16</td>\n      <td>3422</td>\n      <td>W</td>\n    </tr>\n  </tbody>\n</table>\n<p>4370 rows × 4 columns</p>\n</div>"
          },
          "metadata": {}
        }
      ],
      "execution_count": null
    },
    {
      "cell_type": "code",
      "source": [
        "regulardetailedres['FG_Percent'] = ((regulardetailedres['FGM'] / regulardetailedres['FGA']) * 100).round(2)\n",
        "regulardetailedres['ThreeFG_Percent'] =( ((regulardetailedres['FGM3'] / regulardetailedres['FGA3']).replace(np.nan,0)) * 100).round(2)\n",
        "regulardetailedres['Total_Rebounds'] = regulardetailedres['OR'] + regulardetailedres['DR']\n",
        "regulardetailedres['AST_TO_Ratio'] = regulardetailedres['Ast'] / regulardetailedres['TO']\n",
        "regulardetailedres['FT_Percent'] = ( ((regulardetailedres['FGM3'] / regulardetailedres['FGA3']).replace(np.nan,0)) * 100).round(2)"
      ],
      "metadata": {
        "trusted": true,
        "execution": {
          "iopub.status.busy": "2025-03-25T07:33:30.154312Z",
          "iopub.execute_input": "2025-03-25T07:33:30.154623Z",
          "iopub.status.idle": "2025-03-25T07:33:30.190936Z",
          "shell.execute_reply.started": "2025-03-25T07:33:30.154594Z",
          "shell.execute_reply": "2025-03-25T07:33:30.190296Z"
        },
        "id": "DWyvrALPYTZ6"
      },
      "outputs": [],
      "execution_count": null
    },
    {
      "cell_type": "code",
      "source": [
        "regularaggregates =( regulardetailedres.groupby(['Season','TeamID','League'])\n",
        ".agg(\n",
        "        FG_Percent=('FG_Percent', 'mean'),\n",
        "        ThreeFG_Percent=('ThreeFG_Percent', 'mean'),\n",
        "        Mean_Rebounds=('Total_Rebounds', 'mean'),\n",
        "        Median_Turnovers=('TO', 'median'),\n",
        "        Median_Fouls=('PF', 'median'),\n",
        "        AST_TO_Ratio=('AST_TO_Ratio', 'mean'),\n",
        "        FT_Percent=('FT_Percent', 'mean'),\n",
        "        Mean_FTM=('FTM', 'mean'),\n",
        "        Win_Percent=('Win', lambda x: (x.sum() / len(x)) * 100),\n",
        ")\n",
        " .reset_index())"
      ],
      "metadata": {
        "trusted": true,
        "execution": {
          "iopub.status.busy": "2025-03-25T07:33:30.191733Z",
          "iopub.execute_input": "2025-03-25T07:33:30.192038Z",
          "iopub.status.idle": "2025-03-25T07:33:30.71871Z",
          "shell.execute_reply.started": "2025-03-25T07:33:30.19201Z",
          "shell.execute_reply": "2025-03-25T07:33:30.717832Z"
        },
        "id": "z8Rm_OGBYTZ6"
      },
      "outputs": [],
      "execution_count": null
    },
    {
      "cell_type": "code",
      "source": [
        "columns_to_round = [\n",
        "    'FG_Percent', 'ThreeFG_Percent', 'FT_Percent',\n",
        "    'AST_TO_Ratio', 'Mean_FTM', 'Win_Percent','Mean_Rebounds'\n",
        "]\n",
        "\n",
        "regularaggregates[columns_to_round] = regularaggregates[columns_to_round].round(2)\n"
      ],
      "metadata": {
        "trusted": true,
        "execution": {
          "iopub.status.busy": "2025-03-25T07:33:30.719664Z",
          "iopub.execute_input": "2025-03-25T07:33:30.720002Z",
          "iopub.status.idle": "2025-03-25T07:33:30.726924Z",
          "shell.execute_reply.started": "2025-03-25T07:33:30.719971Z",
          "shell.execute_reply": "2025-03-25T07:33:30.726072Z"
        },
        "id": "_KEQdxYTYTZ6"
      },
      "outputs": [],
      "execution_count": null
    },
    {
      "cell_type": "code",
      "source": [
        "regularaggregates.shape"
      ],
      "metadata": {
        "trusted": true,
        "execution": {
          "iopub.status.busy": "2025-03-25T07:33:30.727688Z",
          "iopub.execute_input": "2025-03-25T07:33:30.727904Z",
          "iopub.status.idle": "2025-03-25T07:33:30.741591Z",
          "shell.execute_reply.started": "2025-03-25T07:33:30.727886Z",
          "shell.execute_reply": "2025-03-25T07:33:30.740779Z"
        },
        "id": "cD3MW7uZYTZ6",
        "outputId": "e20a798b-7ecd-4ba5-e7b0-6cee47fefa8d"
      },
      "outputs": [
        {
          "execution_count": 19,
          "output_type": "execute_result",
          "data": {
            "text/plain": "(13583, 12)"
          },
          "metadata": {}
        }
      ],
      "execution_count": null
    },
    {
      "cell_type": "code",
      "source": [
        "seeds.query('Season == 2025').nunique()"
      ],
      "metadata": {
        "trusted": true,
        "execution": {
          "iopub.status.busy": "2025-03-25T07:33:30.742278Z",
          "iopub.execute_input": "2025-03-25T07:33:30.742463Z",
          "iopub.status.idle": "2025-03-25T07:33:30.759186Z",
          "shell.execute_reply.started": "2025-03-25T07:33:30.742447Z",
          "shell.execute_reply": "2025-03-25T07:33:30.758316Z"
        },
        "id": "izeyr3JMYTZ7",
        "outputId": "3a7a6c8d-8437-4171-a8d7-a7098e775ce8"
      },
      "outputs": [
        {
          "execution_count": 20,
          "output_type": "execute_result",
          "data": {
            "text/plain": "Season      1\nSeed       16\nTeamID    136\nLeague      2\ndtype: int64"
          },
          "metadata": {}
        }
      ],
      "execution_count": null
    },
    {
      "cell_type": "code",
      "source": [
        "regular_agg_final = regularaggregates.merge(seeds,\n",
        "                                            on=[\"Season\", \"TeamID\", \"League\"],\n",
        "                                            how=\"inner\")"
      ],
      "metadata": {
        "trusted": true,
        "execution": {
          "iopub.status.busy": "2025-03-25T07:33:30.760067Z",
          "iopub.execute_input": "2025-03-25T07:33:30.760315Z",
          "iopub.status.idle": "2025-03-25T07:33:30.772286Z",
          "shell.execute_reply.started": "2025-03-25T07:33:30.760295Z",
          "shell.execute_reply": "2025-03-25T07:33:30.771524Z"
        },
        "id": "kJ2XUsRPYTZ7"
      },
      "outputs": [],
      "execution_count": null
    },
    {
      "cell_type": "code",
      "source": [
        "regular_agg_final.isna().sum()\n"
      ],
      "metadata": {
        "trusted": true,
        "execution": {
          "iopub.status.busy": "2025-03-25T07:33:30.773125Z",
          "iopub.execute_input": "2025-03-25T07:33:30.773336Z",
          "iopub.status.idle": "2025-03-25T07:33:30.77982Z",
          "shell.execute_reply.started": "2025-03-25T07:33:30.773318Z",
          "shell.execute_reply": "2025-03-25T07:33:30.778923Z"
        },
        "id": "ABfs3-f4YTZ7",
        "outputId": "dde3fa9d-3984-4320-8a3d-6b994191d508"
      },
      "outputs": [
        {
          "execution_count": 22,
          "output_type": "execute_result",
          "data": {
            "text/plain": "Season              0\nTeamID              0\nLeague              0\nFG_Percent          0\nThreeFG_Percent     0\nMean_Rebounds       0\nMedian_Turnovers    0\nMedian_Fouls        0\nAST_TO_Ratio        0\nFT_Percent          0\nMean_FTM            0\nWin_Percent         0\nSeed                0\ndtype: int64"
          },
          "metadata": {}
        }
      ],
      "execution_count": null
    },
    {
      "cell_type": "code",
      "source": [
        "allcols = regular_agg_final.columns"
      ],
      "metadata": {
        "trusted": true,
        "execution": {
          "iopub.status.busy": "2025-03-25T07:33:30.780694Z",
          "iopub.execute_input": "2025-03-25T07:33:30.780913Z",
          "iopub.status.idle": "2025-03-25T07:33:30.790298Z",
          "shell.execute_reply.started": "2025-03-25T07:33:30.780894Z",
          "shell.execute_reply": "2025-03-25T07:33:30.789538Z"
        },
        "id": "d2YdUDaWYTZ7"
      },
      "outputs": [],
      "execution_count": null
    },
    {
      "cell_type": "code",
      "source": [
        "tournamentres=pd.concat([\n",
        "    tournamentres[detailedcols].assign(\n",
        "        Result = 'W')\n",
        "    .rename(columns=lambda col: rename_winners(col)),\n",
        "    tournamentres[detailedcols].assign(\n",
        "        Result = 'L')\n",
        "    .rename(columns=lambda col: rename_losers(col))\n",
        "])"
      ],
      "metadata": {
        "trusted": true,
        "execution": {
          "iopub.status.busy": "2025-03-25T07:33:30.791202Z",
          "iopub.execute_input": "2025-03-25T07:33:30.791393Z",
          "iopub.status.idle": "2025-03-25T07:33:30.806282Z",
          "shell.execute_reply.started": "2025-03-25T07:33:30.791376Z",
          "shell.execute_reply": "2025-03-25T07:33:30.805409Z"
        },
        "id": "ODtYnoblYTZ7"
      },
      "outputs": [],
      "execution_count": null
    },
    {
      "cell_type": "code",
      "source": [
        "tournamentres.drop(columns=['Loc','OppLoc'],inplace=True)"
      ],
      "metadata": {
        "trusted": true,
        "execution": {
          "iopub.status.busy": "2025-03-25T07:33:30.807033Z",
          "iopub.execute_input": "2025-03-25T07:33:30.80724Z",
          "iopub.status.idle": "2025-03-25T07:33:30.812862Z",
          "shell.execute_reply.started": "2025-03-25T07:33:30.807223Z",
          "shell.execute_reply": "2025-03-25T07:33:30.812189Z"
        },
        "id": "q2YJmaMYYTZ7"
      },
      "outputs": [],
      "execution_count": null
    },
    {
      "cell_type": "code",
      "source": [
        "tournamentres.columns"
      ],
      "metadata": {
        "trusted": true,
        "execution": {
          "iopub.status.busy": "2025-03-25T07:33:30.813524Z",
          "iopub.execute_input": "2025-03-25T07:33:30.813738Z",
          "iopub.status.idle": "2025-03-25T07:33:30.823869Z",
          "shell.execute_reply.started": "2025-03-25T07:33:30.81372Z",
          "shell.execute_reply": "2025-03-25T07:33:30.82318Z"
        },
        "id": "mA74a7c0YTZ7",
        "outputId": "44cd4520-65ea-4d80-eea9-6742f2c3e518"
      },
      "outputs": [
        {
          "execution_count": 26,
          "output_type": "execute_result",
          "data": {
            "text/plain": "Index(['Season', 'DayNum', 'TeamID', 'Score', 'OppTeamID', 'OppScore', 'NumOT',\n       'FGM', 'FGA', 'FGM3', 'FGA3', 'FTM', 'FTA', 'OR', 'DR', 'Ast', 'TO',\n       'Stl', 'Blk', 'PF', 'OppFGM', 'OppFGA', 'OppFGM3', 'OppFGA3', 'OppFTM',\n       'OppFTA', 'OppOR', 'OppDR', 'OppAst', 'OppTO', 'OppStl', 'OppBlk',\n       'OppPF', 'League', 'Result'],\n      dtype='object')"
          },
          "metadata": {}
        }
      ],
      "execution_count": null
    },
    {
      "cell_type": "code",
      "source": [
        "def oppnamer(col):\n",
        "    return 'Opp'+col if (col!='League') and (col!='Season') else col"
      ],
      "metadata": {
        "trusted": true,
        "execution": {
          "iopub.status.busy": "2025-03-25T07:33:30.829108Z",
          "iopub.execute_input": "2025-03-25T07:33:30.829366Z",
          "iopub.status.idle": "2025-03-25T07:33:30.83524Z",
          "shell.execute_reply.started": "2025-03-25T07:33:30.829345Z",
          "shell.execute_reply": "2025-03-25T07:33:30.834631Z"
        },
        "id": "thFaxa6zYTZ7"
      },
      "outputs": [],
      "execution_count": null
    },
    {
      "cell_type": "code",
      "source": [
        "allcols"
      ],
      "metadata": {
        "trusted": true,
        "execution": {
          "iopub.status.busy": "2025-03-25T07:33:30.83729Z",
          "iopub.execute_input": "2025-03-25T07:33:30.837558Z",
          "iopub.status.idle": "2025-03-25T07:33:30.84867Z",
          "shell.execute_reply.started": "2025-03-25T07:33:30.837538Z",
          "shell.execute_reply": "2025-03-25T07:33:30.847719Z"
        },
        "id": "78ocx8ujYTZ7",
        "outputId": "efa173e3-ffbb-4575-8a31-682c7403d142"
      },
      "outputs": [
        {
          "execution_count": 28,
          "output_type": "execute_result",
          "data": {
            "text/plain": "Index(['Season', 'TeamID', 'League', 'FG_Percent', 'ThreeFG_Percent',\n       'Mean_Rebounds', 'Median_Turnovers', 'Median_Fouls', 'AST_TO_Ratio',\n       'FT_Percent', 'Mean_FTM', 'Win_Percent', 'Seed'],\n      dtype='object')"
          },
          "metadata": {}
        }
      ],
      "execution_count": null
    },
    {
      "cell_type": "code",
      "source": [
        "tournament_final = tournamentres.merge(\n",
        "    regular_agg_final[allcols],\n",
        "    on = ['Season','League','TeamID'],\n",
        "    how='left',\n",
        ").merge(\n",
        "    regular_agg_final[allcols].rename(\n",
        "        columns = lambda col: oppnamer(col)\n",
        "    ),\n",
        "    on=[\"Season\", \"League\", \"OppTeamID\"],\n",
        ")"
      ],
      "metadata": {
        "trusted": true,
        "execution": {
          "iopub.status.busy": "2025-03-25T07:33:30.849573Z",
          "iopub.execute_input": "2025-03-25T07:33:30.849852Z",
          "iopub.status.idle": "2025-03-25T07:33:30.869175Z",
          "shell.execute_reply.started": "2025-03-25T07:33:30.849831Z",
          "shell.execute_reply": "2025-03-25T07:33:30.868386Z"
        },
        "id": "sZg6cV_OYTZ7"
      },
      "outputs": [],
      "execution_count": null
    },
    {
      "cell_type": "code",
      "source": [
        "tournament_final.columns"
      ],
      "metadata": {
        "trusted": true,
        "execution": {
          "iopub.status.busy": "2025-03-25T07:33:30.870038Z",
          "iopub.execute_input": "2025-03-25T07:33:30.870296Z",
          "iopub.status.idle": "2025-03-25T07:33:30.875503Z",
          "shell.execute_reply.started": "2025-03-25T07:33:30.870264Z",
          "shell.execute_reply": "2025-03-25T07:33:30.874678Z"
        },
        "id": "4efQPMSFYTZ8",
        "outputId": "d2a09e63-6285-40d1-c85c-84ed88043746"
      },
      "outputs": [
        {
          "execution_count": 30,
          "output_type": "execute_result",
          "data": {
            "text/plain": "Index(['Season', 'DayNum', 'TeamID', 'Score', 'OppTeamID', 'OppScore', 'NumOT',\n       'FGM', 'FGA', 'FGM3', 'FGA3', 'FTM', 'FTA', 'OR', 'DR', 'Ast', 'TO',\n       'Stl', 'Blk', 'PF', 'OppFGM', 'OppFGA', 'OppFGM3', 'OppFGA3', 'OppFTM',\n       'OppFTA', 'OppOR', 'OppDR', 'OppAst', 'OppTO', 'OppStl', 'OppBlk',\n       'OppPF', 'League', 'Result', 'FG_Percent', 'ThreeFG_Percent',\n       'Mean_Rebounds', 'Median_Turnovers', 'Median_Fouls', 'AST_TO_Ratio',\n       'FT_Percent', 'Mean_FTM', 'Win_Percent', 'Seed', 'OppFG_Percent',\n       'OppThreeFG_Percent', 'OppMean_Rebounds', 'OppMedian_Turnovers',\n       'OppMedian_Fouls', 'OppAST_TO_Ratio', 'OppFT_Percent', 'OppMean_FTM',\n       'OppWin_Percent', 'OppSeed'],\n      dtype='object')"
          },
          "metadata": {}
        }
      ],
      "execution_count": null
    },
    {
      "cell_type": "code",
      "source": [
        "tournament_final.query('TeamID == 1421 or TeamID == 1411')"
      ],
      "metadata": {
        "trusted": true,
        "execution": {
          "iopub.status.busy": "2025-03-25T07:33:30.876375Z",
          "iopub.execute_input": "2025-03-25T07:33:30.87663Z",
          "iopub.status.idle": "2025-03-25T07:33:30.9178Z",
          "shell.execute_reply.started": "2025-03-25T07:33:30.876609Z",
          "shell.execute_reply": "2025-03-25T07:33:30.917046Z"
        },
        "id": "5PsSUVi9YTZ8",
        "outputId": "644e7a0c-a4e8-4f98-8d23-6206b7ce1a3f"
      },
      "outputs": [
        {
          "execution_count": 31,
          "output_type": "execute_result",
          "data": {
            "text/plain": "      Season  DayNum  TeamID  Score  OppTeamID  OppScore  NumOT  FGM  FGA  \\\n0       2003     134    1421     92       1411        84      1   32   69   \n513     2011     134    1421     81       1114        77      1   27   54   \n984     2018     135    1411     64       1300        46      0   21   57   \n1117    2021     136    1411     60       1291        52      0   22   57   \n1182    2022     134    1411     76       1394        67      0   23   55   \n2276    2003     134    1411     84       1421        92      1   29   67   \n2305    2003     137    1421     61       1400        82      0   23   62   \n2801    2011     136    1421     51       1338        74      0   17   55   \n2871    2012     136    1421     65       1393        72      0   21   49   \n2991    2014     135    1411     69       1142        81      0   24   50   \n3060    2015     136    1411     72       1112        93      0   24   51   \n3156    2016     137    1421     56       1437        86      0   21   57   \n3219    2017     137    1411     64       1314       103      0   22   60   \n3292    2018     137    1411     83       1462       102      0   26   65   \n3421    2021     138    1411     66       1276        82      0   23   64   \n3465    2022     136    1411     56       1242        83      0   19   58   \n3527    2023     135    1411     61       1192        84      0   26   62   \n3543    2023     136    1421     53       1417        86      0   19   51   \n\n      FGM3  ...  OppFG_Percent  OppThreeFG_Percent  OppMean_Rebounds  \\\n0       11  ...          44.89               32.14             37.97   \n513      4  ...          41.52               39.24             32.48   \n984      6  ...          46.20               34.58             36.61   \n1117     6  ...          42.75               33.70             34.09   \n1182     4  ...          42.61               31.65             34.33   \n2276    12  ...          43.28               36.35             35.45   \n2305     5  ...          44.89               34.92             42.32   \n2801     3  ...          47.29               38.33             39.88   \n2871     9  ...          46.50               33.62             35.33   \n2991     4  ...          40.51               33.38             31.47   \n3060     5  ...          48.67               35.89             37.24   \n3156     5  ...          46.97               34.04             35.62   \n3219     7  ...          46.79               36.58             43.24   \n3292     8  ...          49.31               36.75             38.39   \n3421     1  ...          48.24               38.65             35.17   \n3465     3  ...          48.17               35.69             35.00   \n3527     1  ...          45.28               34.52             30.50   \n3543     6  ...          45.95               35.28             32.56   \n\n      OppMedian_Turnovers  OppMedian_Fouls  OppAST_TO_Ratio  OppFT_Percent  \\\n0                    15.0             19.0             0.98          32.14   \n513                  12.0             20.0             1.05          39.24   \n984                  13.0             19.0             1.19          34.58   \n1117                 13.0             14.5             1.05          33.70   \n1182                 13.0             22.0             1.03          31.65   \n2276                 16.0             19.0             0.92          36.35   \n2305                 13.5             20.0             1.13          34.92   \n2801                 11.0             18.0             1.75          38.33   \n2871                  9.0             15.0             1.66          33.62   \n2991                  9.0             17.0             1.48          33.38   \n3060                 11.0             18.0             1.40          35.89   \n3156                 10.5             17.0             1.60          34.04   \n3219                 12.0             18.0             1.72          36.58   \n3292                 12.0             17.0             1.43          36.75   \n3421                 10.5             15.0             1.81          38.65   \n3465                 12.0             16.0             1.46          35.69   \n3527                 10.5             18.5             1.38          34.52   \n3543                  9.0             15.0             1.72          35.28   \n\n      OppMean_FTM  OppWin_Percent  OppSeed  \n0           17.40           60.00       16  \n513         15.64           51.52       16  \n984         12.10           51.61       16  \n1117        10.91           54.55       16  \n1182        17.20           63.33       16  \n2276        15.97           44.83       16  \n2305        17.00           78.57        1  \n2801        16.00           84.38        1  \n2871        13.03           93.94        1  \n2991        12.20           36.67       16  \n3060        17.97           91.18        2  \n3156        15.18           85.29        2  \n3219        15.39           78.79        1  \n3292        18.70           84.85        1  \n3421        12.96           83.33        1  \n3465        14.15           82.35        1  \n3527        12.88           53.12       16  \n3543        11.94           85.29        2  \n\n[18 rows x 55 columns]",
            "text/html": "<div>\n<style scoped>\n    .dataframe tbody tr th:only-of-type {\n        vertical-align: middle;\n    }\n\n    .dataframe tbody tr th {\n        vertical-align: top;\n    }\n\n    .dataframe thead th {\n        text-align: right;\n    }\n</style>\n<table border=\"1\" class=\"dataframe\">\n  <thead>\n    <tr style=\"text-align: right;\">\n      <th></th>\n      <th>Season</th>\n      <th>DayNum</th>\n      <th>TeamID</th>\n      <th>Score</th>\n      <th>OppTeamID</th>\n      <th>OppScore</th>\n      <th>NumOT</th>\n      <th>FGM</th>\n      <th>FGA</th>\n      <th>FGM3</th>\n      <th>...</th>\n      <th>OppFG_Percent</th>\n      <th>OppThreeFG_Percent</th>\n      <th>OppMean_Rebounds</th>\n      <th>OppMedian_Turnovers</th>\n      <th>OppMedian_Fouls</th>\n      <th>OppAST_TO_Ratio</th>\n      <th>OppFT_Percent</th>\n      <th>OppMean_FTM</th>\n      <th>OppWin_Percent</th>\n      <th>OppSeed</th>\n    </tr>\n  </thead>\n  <tbody>\n    <tr>\n      <th>0</th>\n      <td>2003</td>\n      <td>134</td>\n      <td>1421</td>\n      <td>92</td>\n      <td>1411</td>\n      <td>84</td>\n      <td>1</td>\n      <td>32</td>\n      <td>69</td>\n      <td>11</td>\n      <td>...</td>\n      <td>44.89</td>\n      <td>32.14</td>\n      <td>37.97</td>\n      <td>15.0</td>\n      <td>19.0</td>\n      <td>0.98</td>\n      <td>32.14</td>\n      <td>17.40</td>\n      <td>60.00</td>\n      <td>16</td>\n    </tr>\n    <tr>\n      <th>513</th>\n      <td>2011</td>\n      <td>134</td>\n      <td>1421</td>\n      <td>81</td>\n      <td>1114</td>\n      <td>77</td>\n      <td>1</td>\n      <td>27</td>\n      <td>54</td>\n      <td>4</td>\n      <td>...</td>\n      <td>41.52</td>\n      <td>39.24</td>\n      <td>32.48</td>\n      <td>12.0</td>\n      <td>20.0</td>\n      <td>1.05</td>\n      <td>39.24</td>\n      <td>15.64</td>\n      <td>51.52</td>\n      <td>16</td>\n    </tr>\n    <tr>\n      <th>984</th>\n      <td>2018</td>\n      <td>135</td>\n      <td>1411</td>\n      <td>64</td>\n      <td>1300</td>\n      <td>46</td>\n      <td>0</td>\n      <td>21</td>\n      <td>57</td>\n      <td>6</td>\n      <td>...</td>\n      <td>46.20</td>\n      <td>34.58</td>\n      <td>36.61</td>\n      <td>13.0</td>\n      <td>19.0</td>\n      <td>1.19</td>\n      <td>34.58</td>\n      <td>12.10</td>\n      <td>51.61</td>\n      <td>16</td>\n    </tr>\n    <tr>\n      <th>1117</th>\n      <td>2021</td>\n      <td>136</td>\n      <td>1411</td>\n      <td>60</td>\n      <td>1291</td>\n      <td>52</td>\n      <td>0</td>\n      <td>22</td>\n      <td>57</td>\n      <td>6</td>\n      <td>...</td>\n      <td>42.75</td>\n      <td>33.70</td>\n      <td>34.09</td>\n      <td>13.0</td>\n      <td>14.5</td>\n      <td>1.05</td>\n      <td>33.70</td>\n      <td>10.91</td>\n      <td>54.55</td>\n      <td>16</td>\n    </tr>\n    <tr>\n      <th>1182</th>\n      <td>2022</td>\n      <td>134</td>\n      <td>1411</td>\n      <td>76</td>\n      <td>1394</td>\n      <td>67</td>\n      <td>0</td>\n      <td>23</td>\n      <td>55</td>\n      <td>4</td>\n      <td>...</td>\n      <td>42.61</td>\n      <td>31.65</td>\n      <td>34.33</td>\n      <td>13.0</td>\n      <td>22.0</td>\n      <td>1.03</td>\n      <td>31.65</td>\n      <td>17.20</td>\n      <td>63.33</td>\n      <td>16</td>\n    </tr>\n    <tr>\n      <th>2276</th>\n      <td>2003</td>\n      <td>134</td>\n      <td>1411</td>\n      <td>84</td>\n      <td>1421</td>\n      <td>92</td>\n      <td>1</td>\n      <td>29</td>\n      <td>67</td>\n      <td>12</td>\n      <td>...</td>\n      <td>43.28</td>\n      <td>36.35</td>\n      <td>35.45</td>\n      <td>16.0</td>\n      <td>19.0</td>\n      <td>0.92</td>\n      <td>36.35</td>\n      <td>15.97</td>\n      <td>44.83</td>\n      <td>16</td>\n    </tr>\n    <tr>\n      <th>2305</th>\n      <td>2003</td>\n      <td>137</td>\n      <td>1421</td>\n      <td>61</td>\n      <td>1400</td>\n      <td>82</td>\n      <td>0</td>\n      <td>23</td>\n      <td>62</td>\n      <td>5</td>\n      <td>...</td>\n      <td>44.89</td>\n      <td>34.92</td>\n      <td>42.32</td>\n      <td>13.5</td>\n      <td>20.0</td>\n      <td>1.13</td>\n      <td>34.92</td>\n      <td>17.00</td>\n      <td>78.57</td>\n      <td>1</td>\n    </tr>\n    <tr>\n      <th>2801</th>\n      <td>2011</td>\n      <td>136</td>\n      <td>1421</td>\n      <td>51</td>\n      <td>1338</td>\n      <td>74</td>\n      <td>0</td>\n      <td>17</td>\n      <td>55</td>\n      <td>3</td>\n      <td>...</td>\n      <td>47.29</td>\n      <td>38.33</td>\n      <td>39.88</td>\n      <td>11.0</td>\n      <td>18.0</td>\n      <td>1.75</td>\n      <td>38.33</td>\n      <td>16.00</td>\n      <td>84.38</td>\n      <td>1</td>\n    </tr>\n    <tr>\n      <th>2871</th>\n      <td>2012</td>\n      <td>136</td>\n      <td>1421</td>\n      <td>65</td>\n      <td>1393</td>\n      <td>72</td>\n      <td>0</td>\n      <td>21</td>\n      <td>49</td>\n      <td>9</td>\n      <td>...</td>\n      <td>46.50</td>\n      <td>33.62</td>\n      <td>35.33</td>\n      <td>9.0</td>\n      <td>15.0</td>\n      <td>1.66</td>\n      <td>33.62</td>\n      <td>13.03</td>\n      <td>93.94</td>\n      <td>1</td>\n    </tr>\n    <tr>\n      <th>2991</th>\n      <td>2014</td>\n      <td>135</td>\n      <td>1411</td>\n      <td>69</td>\n      <td>1142</td>\n      <td>81</td>\n      <td>0</td>\n      <td>24</td>\n      <td>50</td>\n      <td>4</td>\n      <td>...</td>\n      <td>40.51</td>\n      <td>33.38</td>\n      <td>31.47</td>\n      <td>9.0</td>\n      <td>17.0</td>\n      <td>1.48</td>\n      <td>33.38</td>\n      <td>12.20</td>\n      <td>36.67</td>\n      <td>16</td>\n    </tr>\n    <tr>\n      <th>3060</th>\n      <td>2015</td>\n      <td>136</td>\n      <td>1411</td>\n      <td>72</td>\n      <td>1112</td>\n      <td>93</td>\n      <td>0</td>\n      <td>24</td>\n      <td>51</td>\n      <td>5</td>\n      <td>...</td>\n      <td>48.67</td>\n      <td>35.89</td>\n      <td>37.24</td>\n      <td>11.0</td>\n      <td>18.0</td>\n      <td>1.40</td>\n      <td>35.89</td>\n      <td>17.97</td>\n      <td>91.18</td>\n      <td>2</td>\n    </tr>\n    <tr>\n      <th>3156</th>\n      <td>2016</td>\n      <td>137</td>\n      <td>1421</td>\n      <td>56</td>\n      <td>1437</td>\n      <td>86</td>\n      <td>0</td>\n      <td>21</td>\n      <td>57</td>\n      <td>5</td>\n      <td>...</td>\n      <td>46.97</td>\n      <td>34.04</td>\n      <td>35.62</td>\n      <td>10.5</td>\n      <td>17.0</td>\n      <td>1.60</td>\n      <td>34.04</td>\n      <td>15.18</td>\n      <td>85.29</td>\n      <td>2</td>\n    </tr>\n    <tr>\n      <th>3219</th>\n      <td>2017</td>\n      <td>137</td>\n      <td>1411</td>\n      <td>64</td>\n      <td>1314</td>\n      <td>103</td>\n      <td>0</td>\n      <td>22</td>\n      <td>60</td>\n      <td>7</td>\n      <td>...</td>\n      <td>46.79</td>\n      <td>36.58</td>\n      <td>43.24</td>\n      <td>12.0</td>\n      <td>18.0</td>\n      <td>1.72</td>\n      <td>36.58</td>\n      <td>15.39</td>\n      <td>78.79</td>\n      <td>1</td>\n    </tr>\n    <tr>\n      <th>3292</th>\n      <td>2018</td>\n      <td>137</td>\n      <td>1411</td>\n      <td>83</td>\n      <td>1462</td>\n      <td>102</td>\n      <td>0</td>\n      <td>26</td>\n      <td>65</td>\n      <td>8</td>\n      <td>...</td>\n      <td>49.31</td>\n      <td>36.75</td>\n      <td>38.39</td>\n      <td>12.0</td>\n      <td>17.0</td>\n      <td>1.43</td>\n      <td>36.75</td>\n      <td>18.70</td>\n      <td>84.85</td>\n      <td>1</td>\n    </tr>\n    <tr>\n      <th>3421</th>\n      <td>2021</td>\n      <td>138</td>\n      <td>1411</td>\n      <td>66</td>\n      <td>1276</td>\n      <td>82</td>\n      <td>0</td>\n      <td>23</td>\n      <td>64</td>\n      <td>1</td>\n      <td>...</td>\n      <td>48.24</td>\n      <td>38.65</td>\n      <td>35.17</td>\n      <td>10.5</td>\n      <td>15.0</td>\n      <td>1.81</td>\n      <td>38.65</td>\n      <td>12.96</td>\n      <td>83.33</td>\n      <td>1</td>\n    </tr>\n    <tr>\n      <th>3465</th>\n      <td>2022</td>\n      <td>136</td>\n      <td>1411</td>\n      <td>56</td>\n      <td>1242</td>\n      <td>83</td>\n      <td>0</td>\n      <td>19</td>\n      <td>58</td>\n      <td>3</td>\n      <td>...</td>\n      <td>48.17</td>\n      <td>35.69</td>\n      <td>35.00</td>\n      <td>12.0</td>\n      <td>16.0</td>\n      <td>1.46</td>\n      <td>35.69</td>\n      <td>14.15</td>\n      <td>82.35</td>\n      <td>1</td>\n    </tr>\n    <tr>\n      <th>3527</th>\n      <td>2023</td>\n      <td>135</td>\n      <td>1411</td>\n      <td>61</td>\n      <td>1192</td>\n      <td>84</td>\n      <td>0</td>\n      <td>26</td>\n      <td>62</td>\n      <td>1</td>\n      <td>...</td>\n      <td>45.28</td>\n      <td>34.52</td>\n      <td>30.50</td>\n      <td>10.5</td>\n      <td>18.5</td>\n      <td>1.38</td>\n      <td>34.52</td>\n      <td>12.88</td>\n      <td>53.12</td>\n      <td>16</td>\n    </tr>\n    <tr>\n      <th>3543</th>\n      <td>2023</td>\n      <td>136</td>\n      <td>1421</td>\n      <td>53</td>\n      <td>1417</td>\n      <td>86</td>\n      <td>0</td>\n      <td>19</td>\n      <td>51</td>\n      <td>6</td>\n      <td>...</td>\n      <td>45.95</td>\n      <td>35.28</td>\n      <td>32.56</td>\n      <td>9.0</td>\n      <td>15.0</td>\n      <td>1.72</td>\n      <td>35.28</td>\n      <td>11.94</td>\n      <td>85.29</td>\n      <td>2</td>\n    </tr>\n  </tbody>\n</table>\n<p>18 rows × 55 columns</p>\n</div>"
          },
          "metadata": {}
        }
      ],
      "execution_count": null
    },
    {
      "cell_type": "code",
      "source": [
        "team_names = pd.concat([pd.read_csv(path+\"MTeams.csv\").assign(League=\"M\"),\n",
        "        pd.read_csv(path+\"WTeams.csv\").assign(League=\"W\"),],).reset_index(drop=True)"
      ],
      "metadata": {
        "trusted": true,
        "execution": {
          "iopub.status.busy": "2025-03-25T07:33:30.918574Z",
          "iopub.execute_input": "2025-03-25T07:33:30.918859Z",
          "iopub.status.idle": "2025-03-25T07:33:30.939719Z",
          "shell.execute_reply.started": "2025-03-25T07:33:30.918838Z",
          "shell.execute_reply": "2025-03-25T07:33:30.939064Z"
        },
        "id": "qVRnTxlYYTZ8"
      },
      "outputs": [],
      "execution_count": null
    },
    {
      "cell_type": "code",
      "source": [
        "team_names.drop('FirstD1Season',axis=1,inplace=True)"
      ],
      "metadata": {
        "trusted": true,
        "execution": {
          "iopub.status.busy": "2025-03-25T07:33:30.940551Z",
          "iopub.execute_input": "2025-03-25T07:33:30.940872Z",
          "iopub.status.idle": "2025-03-25T07:33:30.9449Z",
          "shell.execute_reply.started": "2025-03-25T07:33:30.940841Z",
          "shell.execute_reply": "2025-03-25T07:33:30.943998Z"
        },
        "id": "mqX8IjccYTZ8"
      },
      "outputs": [],
      "execution_count": null
    },
    {
      "cell_type": "code",
      "source": [
        "team_names.shape"
      ],
      "metadata": {
        "trusted": true,
        "execution": {
          "iopub.status.busy": "2025-03-25T07:33:30.945639Z",
          "iopub.execute_input": "2025-03-25T07:33:30.94591Z",
          "iopub.status.idle": "2025-03-25T07:33:30.958369Z",
          "shell.execute_reply.started": "2025-03-25T07:33:30.945884Z",
          "shell.execute_reply": "2025-03-25T07:33:30.95768Z"
        },
        "id": "AgRHsXASYTZ8",
        "outputId": "e09ca5f1-c831-4f71-f621-ad2f5445c227"
      },
      "outputs": [
        {
          "execution_count": 34,
          "output_type": "execute_result",
          "data": {
            "text/plain": "(758, 4)"
          },
          "metadata": {}
        }
      ],
      "execution_count": null
    },
    {
      "cell_type": "code",
      "source": [
        "team_names.drop('LastD1Season',axis=1,inplace=True)\n"
      ],
      "metadata": {
        "trusted": true,
        "execution": {
          "iopub.status.busy": "2025-03-25T07:33:30.959107Z",
          "iopub.execute_input": "2025-03-25T07:33:30.959307Z",
          "iopub.status.idle": "2025-03-25T07:33:30.970165Z",
          "shell.execute_reply.started": "2025-03-25T07:33:30.95929Z",
          "shell.execute_reply": "2025-03-25T07:33:30.96934Z"
        },
        "id": "7_XItEIAYTZ8"
      },
      "outputs": [],
      "execution_count": null
    },
    {
      "cell_type": "code",
      "source": [
        "tournament_v2 = tournament_final.merge(\n",
        "    team_names,\n",
        "    on=['TeamID','League'],\n",
        "    how = 'left'\n",
        ")"
      ],
      "metadata": {
        "trusted": true,
        "execution": {
          "iopub.status.busy": "2025-03-25T07:33:30.971035Z",
          "iopub.execute_input": "2025-03-25T07:33:30.971221Z",
          "iopub.status.idle": "2025-03-25T07:33:30.986555Z",
          "shell.execute_reply.started": "2025-03-25T07:33:30.971204Z",
          "shell.execute_reply": "2025-03-25T07:33:30.985856Z"
        },
        "id": "OtH6HGvtYTZ8"
      },
      "outputs": [],
      "execution_count": null
    },
    {
      "cell_type": "markdown",
      "source": [
        "Model 1: Random Forest"
      ],
      "metadata": {
        "id": "Fd4ijfH0YTZ9"
      }
    },
    {
      "cell_type": "code",
      "source": [
        "from sklearn.ensemble import RandomForestClassifier\n",
        "from sklearn.metrics import log_loss, accuracy_score\n",
        "from sklearn.model_selection import GroupKFold"
      ],
      "metadata": {
        "trusted": true,
        "execution": {
          "iopub.status.busy": "2025-03-25T07:33:30.987381Z",
          "iopub.execute_input": "2025-03-25T07:33:30.987686Z",
          "iopub.status.idle": "2025-03-25T07:33:31.621088Z",
          "shell.execute_reply.started": "2025-03-25T07:33:30.987655Z",
          "shell.execute_reply": "2025-03-25T07:33:31.62013Z"
        },
        "id": "Mfo4Bqj2YTZ9"
      },
      "outputs": [],
      "execution_count": null
    },
    {
      "cell_type": "code",
      "source": [
        "tournament_v2.columns"
      ],
      "metadata": {
        "trusted": true,
        "execution": {
          "iopub.status.busy": "2025-03-25T07:33:31.622168Z",
          "iopub.execute_input": "2025-03-25T07:33:31.622714Z",
          "iopub.status.idle": "2025-03-25T07:33:31.627993Z",
          "shell.execute_reply.started": "2025-03-25T07:33:31.622686Z",
          "shell.execute_reply": "2025-03-25T07:33:31.627149Z"
        },
        "id": "7UKGEHnwYTZ-",
        "outputId": "9874361c-a92b-4ae4-d86d-b6286ccab3e1"
      },
      "outputs": [
        {
          "execution_count": 38,
          "output_type": "execute_result",
          "data": {
            "text/plain": "Index(['Season', 'DayNum', 'TeamID', 'Score', 'OppTeamID', 'OppScore', 'NumOT',\n       'FGM', 'FGA', 'FGM3', 'FGA3', 'FTM', 'FTA', 'OR', 'DR', 'Ast', 'TO',\n       'Stl', 'Blk', 'PF', 'OppFGM', 'OppFGA', 'OppFGM3', 'OppFGA3', 'OppFTM',\n       'OppFTA', 'OppOR', 'OppDR', 'OppAst', 'OppTO', 'OppStl', 'OppBlk',\n       'OppPF', 'League', 'Result', 'FG_Percent', 'ThreeFG_Percent',\n       'Mean_Rebounds', 'Median_Turnovers', 'Median_Fouls', 'AST_TO_Ratio',\n       'FT_Percent', 'Mean_FTM', 'Win_Percent', 'Seed', 'OppFG_Percent',\n       'OppThreeFG_Percent', 'OppMean_Rebounds', 'OppMedian_Turnovers',\n       'OppMedian_Fouls', 'OppAST_TO_Ratio', 'OppFT_Percent', 'OppMean_FTM',\n       'OppWin_Percent', 'OppSeed', 'TeamName'],\n      dtype='object')"
          },
          "metadata": {}
        }
      ],
      "execution_count": null
    },
    {
      "cell_type": "code",
      "source": [
        "tournament_v2"
      ],
      "metadata": {
        "trusted": true,
        "execution": {
          "iopub.status.busy": "2025-03-25T07:33:31.629024Z",
          "iopub.execute_input": "2025-03-25T07:33:31.629297Z",
          "iopub.status.idle": "2025-03-25T07:33:31.658897Z",
          "shell.execute_reply.started": "2025-03-25T07:33:31.629264Z",
          "shell.execute_reply": "2025-03-25T07:33:31.658273Z"
        },
        "id": "a9bZiav0YTZ-",
        "outputId": "a5c584a0-583d-4902-c416-32ec7c3f09e7"
      },
      "outputs": [
        {
          "execution_count": 39,
          "output_type": "execute_result",
          "data": {
            "text/plain": "      Season  DayNum  TeamID  Score  OppTeamID  OppScore  NumOT  FGM  FGA  \\\n0       2003     134    1421     92       1411        84      1   32   69   \n1       2003     136    1112     80       1436        51      0   31   66   \n2       2003     136    1113     84       1272        71      0   31   59   \n3       2003     136    1141     79       1166        73      0   29   53   \n4       2003     136    1143     76       1301        74      1   27   64   \n...      ...     ...     ...    ...        ...       ...    ...  ...  ...   \n4547    2024     147    3425     73       3163        80      0   23   70   \n4548    2024     147    3261     87       3234        94      0   34   88   \n4549    2024     151    3163     69       3234        71      0   29   63   \n4550    2024     151    3301     59       3376        78      0   20   62   \n4551    2024     153    3234     75       3376        87      0   25   63   \n\n      FGM3  ...  OppThreeFG_Percent  OppMean_Rebounds  OppMedian_Turnovers  \\\n0       11  ...               32.14             37.97                 15.0   \n1        7  ...               35.79             38.69                 14.0   \n2        6  ...               34.34             40.03                 13.0   \n3        3  ...               38.49             34.06                 13.0   \n4        7  ...               35.06             31.77                 14.0   \n...    ...  ...                 ...               ...                  ...   \n4547     9  ...               35.82             33.39                 12.0   \n4548     8  ...               37.49             37.36                 14.0   \n4549     8  ...               37.49             37.36                 14.0   \n4550     6  ...               39.79             42.12                 13.0   \n4551     9  ...               39.79             42.12                 13.0   \n\n      OppMedian_Fouls  OppAST_TO_Ratio  OppFT_Percent  OppMean_FTM  \\\n0                19.0             0.98          32.14        17.40   \n1                16.0             1.08          35.79        12.86   \n2                18.0             1.29          34.34        14.97   \n3                17.0             1.33          38.49        13.88   \n4                18.0             1.10          35.06        15.77   \n...               ...              ...            ...          ...   \n4547             15.0             1.72          35.82        11.70   \n4548             15.0             1.82          37.49        15.30   \n4549             15.0             1.82          37.49        15.30   \n4550             15.0             1.57          39.79        13.16   \n4551             15.0             1.57          39.79        13.16   \n\n      OppWin_Percent  OppSeed       TeamName  \n0              60.00       16  UNC Asheville  \n1              65.52       16        Arizona  \n2              79.31        7     Arizona St  \n3              87.88        6     C Michigan  \n4              60.00        9     California  \n...              ...      ...            ...  \n4547           84.85        3            USC  \n4548           87.88        1            LSU  \n4549           87.88        1    Connecticut  \n4550          100.00        1       NC State  \n4551          100.00        1           Iowa  \n\n[4552 rows x 56 columns]",
            "text/html": "<div>\n<style scoped>\n    .dataframe tbody tr th:only-of-type {\n        vertical-align: middle;\n    }\n\n    .dataframe tbody tr th {\n        vertical-align: top;\n    }\n\n    .dataframe thead th {\n        text-align: right;\n    }\n</style>\n<table border=\"1\" class=\"dataframe\">\n  <thead>\n    <tr style=\"text-align: right;\">\n      <th></th>\n      <th>Season</th>\n      <th>DayNum</th>\n      <th>TeamID</th>\n      <th>Score</th>\n      <th>OppTeamID</th>\n      <th>OppScore</th>\n      <th>NumOT</th>\n      <th>FGM</th>\n      <th>FGA</th>\n      <th>FGM3</th>\n      <th>...</th>\n      <th>OppThreeFG_Percent</th>\n      <th>OppMean_Rebounds</th>\n      <th>OppMedian_Turnovers</th>\n      <th>OppMedian_Fouls</th>\n      <th>OppAST_TO_Ratio</th>\n      <th>OppFT_Percent</th>\n      <th>OppMean_FTM</th>\n      <th>OppWin_Percent</th>\n      <th>OppSeed</th>\n      <th>TeamName</th>\n    </tr>\n  </thead>\n  <tbody>\n    <tr>\n      <th>0</th>\n      <td>2003</td>\n      <td>134</td>\n      <td>1421</td>\n      <td>92</td>\n      <td>1411</td>\n      <td>84</td>\n      <td>1</td>\n      <td>32</td>\n      <td>69</td>\n      <td>11</td>\n      <td>...</td>\n      <td>32.14</td>\n      <td>37.97</td>\n      <td>15.0</td>\n      <td>19.0</td>\n      <td>0.98</td>\n      <td>32.14</td>\n      <td>17.40</td>\n      <td>60.00</td>\n      <td>16</td>\n      <td>UNC Asheville</td>\n    </tr>\n    <tr>\n      <th>1</th>\n      <td>2003</td>\n      <td>136</td>\n      <td>1112</td>\n      <td>80</td>\n      <td>1436</td>\n      <td>51</td>\n      <td>0</td>\n      <td>31</td>\n      <td>66</td>\n      <td>7</td>\n      <td>...</td>\n      <td>35.79</td>\n      <td>38.69</td>\n      <td>14.0</td>\n      <td>16.0</td>\n      <td>1.08</td>\n      <td>35.79</td>\n      <td>12.86</td>\n      <td>65.52</td>\n      <td>16</td>\n      <td>Arizona</td>\n    </tr>\n    <tr>\n      <th>2</th>\n      <td>2003</td>\n      <td>136</td>\n      <td>1113</td>\n      <td>84</td>\n      <td>1272</td>\n      <td>71</td>\n      <td>0</td>\n      <td>31</td>\n      <td>59</td>\n      <td>6</td>\n      <td>...</td>\n      <td>34.34</td>\n      <td>40.03</td>\n      <td>13.0</td>\n      <td>18.0</td>\n      <td>1.29</td>\n      <td>34.34</td>\n      <td>14.97</td>\n      <td>79.31</td>\n      <td>7</td>\n      <td>Arizona St</td>\n    </tr>\n    <tr>\n      <th>3</th>\n      <td>2003</td>\n      <td>136</td>\n      <td>1141</td>\n      <td>79</td>\n      <td>1166</td>\n      <td>73</td>\n      <td>0</td>\n      <td>29</td>\n      <td>53</td>\n      <td>3</td>\n      <td>...</td>\n      <td>38.49</td>\n      <td>34.06</td>\n      <td>13.0</td>\n      <td>17.0</td>\n      <td>1.33</td>\n      <td>38.49</td>\n      <td>13.88</td>\n      <td>87.88</td>\n      <td>6</td>\n      <td>C Michigan</td>\n    </tr>\n    <tr>\n      <th>4</th>\n      <td>2003</td>\n      <td>136</td>\n      <td>1143</td>\n      <td>76</td>\n      <td>1301</td>\n      <td>74</td>\n      <td>1</td>\n      <td>27</td>\n      <td>64</td>\n      <td>7</td>\n      <td>...</td>\n      <td>35.06</td>\n      <td>31.77</td>\n      <td>14.0</td>\n      <td>18.0</td>\n      <td>1.10</td>\n      <td>35.06</td>\n      <td>15.77</td>\n      <td>60.00</td>\n      <td>9</td>\n      <td>California</td>\n    </tr>\n    <tr>\n      <th>...</th>\n      <td>...</td>\n      <td>...</td>\n      <td>...</td>\n      <td>...</td>\n      <td>...</td>\n      <td>...</td>\n      <td>...</td>\n      <td>...</td>\n      <td>...</td>\n      <td>...</td>\n      <td>...</td>\n      <td>...</td>\n      <td>...</td>\n      <td>...</td>\n      <td>...</td>\n      <td>...</td>\n      <td>...</td>\n      <td>...</td>\n      <td>...</td>\n      <td>...</td>\n      <td>...</td>\n    </tr>\n    <tr>\n      <th>4547</th>\n      <td>2024</td>\n      <td>147</td>\n      <td>3425</td>\n      <td>73</td>\n      <td>3163</td>\n      <td>80</td>\n      <td>0</td>\n      <td>23</td>\n      <td>70</td>\n      <td>9</td>\n      <td>...</td>\n      <td>35.82</td>\n      <td>33.39</td>\n      <td>12.0</td>\n      <td>15.0</td>\n      <td>1.72</td>\n      <td>35.82</td>\n      <td>11.70</td>\n      <td>84.85</td>\n      <td>3</td>\n      <td>USC</td>\n    </tr>\n    <tr>\n      <th>4548</th>\n      <td>2024</td>\n      <td>147</td>\n      <td>3261</td>\n      <td>87</td>\n      <td>3234</td>\n      <td>94</td>\n      <td>0</td>\n      <td>34</td>\n      <td>88</td>\n      <td>8</td>\n      <td>...</td>\n      <td>37.49</td>\n      <td>37.36</td>\n      <td>14.0</td>\n      <td>15.0</td>\n      <td>1.82</td>\n      <td>37.49</td>\n      <td>15.30</td>\n      <td>87.88</td>\n      <td>1</td>\n      <td>LSU</td>\n    </tr>\n    <tr>\n      <th>4549</th>\n      <td>2024</td>\n      <td>151</td>\n      <td>3163</td>\n      <td>69</td>\n      <td>3234</td>\n      <td>71</td>\n      <td>0</td>\n      <td>29</td>\n      <td>63</td>\n      <td>8</td>\n      <td>...</td>\n      <td>37.49</td>\n      <td>37.36</td>\n      <td>14.0</td>\n      <td>15.0</td>\n      <td>1.82</td>\n      <td>37.49</td>\n      <td>15.30</td>\n      <td>87.88</td>\n      <td>1</td>\n      <td>Connecticut</td>\n    </tr>\n    <tr>\n      <th>4550</th>\n      <td>2024</td>\n      <td>151</td>\n      <td>3301</td>\n      <td>59</td>\n      <td>3376</td>\n      <td>78</td>\n      <td>0</td>\n      <td>20</td>\n      <td>62</td>\n      <td>6</td>\n      <td>...</td>\n      <td>39.79</td>\n      <td>42.12</td>\n      <td>13.0</td>\n      <td>15.0</td>\n      <td>1.57</td>\n      <td>39.79</td>\n      <td>13.16</td>\n      <td>100.00</td>\n      <td>1</td>\n      <td>NC State</td>\n    </tr>\n    <tr>\n      <th>4551</th>\n      <td>2024</td>\n      <td>153</td>\n      <td>3234</td>\n      <td>75</td>\n      <td>3376</td>\n      <td>87</td>\n      <td>0</td>\n      <td>25</td>\n      <td>63</td>\n      <td>9</td>\n      <td>...</td>\n      <td>39.79</td>\n      <td>42.12</td>\n      <td>13.0</td>\n      <td>15.0</td>\n      <td>1.57</td>\n      <td>39.79</td>\n      <td>13.16</td>\n      <td>100.00</td>\n      <td>1</td>\n      <td>Iowa</td>\n    </tr>\n  </tbody>\n</table>\n<p>4552 rows × 56 columns</p>\n</div>"
          },
          "metadata": {}
        }
      ],
      "execution_count": null
    },
    {
      "cell_type": "code",
      "source": [
        "# tournament_v2['Rebound_diff'] = (tournament_v2.OR + tournament_v2.DR)-(tournament_v2.OppOR + tournament_v2.OppDR)"
      ],
      "metadata": {
        "trusted": true,
        "execution": {
          "iopub.status.busy": "2025-03-25T07:33:31.659554Z",
          "iopub.execute_input": "2025-03-25T07:33:31.659741Z",
          "iopub.status.idle": "2025-03-25T07:33:31.662929Z",
          "shell.execute_reply.started": "2025-03-25T07:33:31.659725Z",
          "shell.execute_reply": "2025-03-25T07:33:31.662068Z"
        },
        "id": "lpxTKan9YTZ_"
      },
      "outputs": [],
      "execution_count": null
    },
    {
      "cell_type": "code",
      "source": [
        "# tournament_v2['3pointdiff'] = tournament_v2.FGM3 - tournament_v2.OppFGM3\n",
        "# tournament_v2['FGdiff'] = tournament_v2.FGM - tournament_v2.OppFGM\n",
        "# tournament_v2['TOdiff'] = tournament_v2.TO - tournament_v2.OppTO\n",
        "# tournament_v2['Fouldiff'] = tournament_v2.PF - tournament_v2.OppPF\n",
        "\n"
      ],
      "metadata": {
        "trusted": true,
        "execution": {
          "iopub.status.busy": "2025-03-25T07:33:31.663576Z",
          "iopub.execute_input": "2025-03-25T07:33:31.663759Z",
          "iopub.status.idle": "2025-03-25T07:33:31.674918Z",
          "shell.execute_reply.started": "2025-03-25T07:33:31.663744Z",
          "shell.execute_reply": "2025-03-25T07:33:31.674275Z"
        },
        "id": "jiUHAucJYTZ_"
      },
      "outputs": [],
      "execution_count": null
    },
    {
      "cell_type": "code",
      "source": [
        "tournament_v2.columns"
      ],
      "metadata": {
        "trusted": true,
        "execution": {
          "iopub.status.busy": "2025-03-25T07:33:31.675632Z",
          "iopub.execute_input": "2025-03-25T07:33:31.675862Z",
          "iopub.status.idle": "2025-03-25T07:33:31.686163Z",
          "shell.execute_reply.started": "2025-03-25T07:33:31.675842Z",
          "shell.execute_reply": "2025-03-25T07:33:31.685504Z"
        },
        "id": "Z7dXkzOKYTZ_",
        "outputId": "7eba2a39-78e6-439d-df21-ed0ec9302e20"
      },
      "outputs": [
        {
          "execution_count": 42,
          "output_type": "execute_result",
          "data": {
            "text/plain": "Index(['Season', 'DayNum', 'TeamID', 'Score', 'OppTeamID', 'OppScore', 'NumOT',\n       'FGM', 'FGA', 'FGM3', 'FGA3', 'FTM', 'FTA', 'OR', 'DR', 'Ast', 'TO',\n       'Stl', 'Blk', 'PF', 'OppFGM', 'OppFGA', 'OppFGM3', 'OppFGA3', 'OppFTM',\n       'OppFTA', 'OppOR', 'OppDR', 'OppAst', 'OppTO', 'OppStl', 'OppBlk',\n       'OppPF', 'League', 'Result', 'FG_Percent', 'ThreeFG_Percent',\n       'Mean_Rebounds', 'Median_Turnovers', 'Median_Fouls', 'AST_TO_Ratio',\n       'FT_Percent', 'Mean_FTM', 'Win_Percent', 'Seed', 'OppFG_Percent',\n       'OppThreeFG_Percent', 'OppMean_Rebounds', 'OppMedian_Turnovers',\n       'OppMedian_Fouls', 'OppAST_TO_Ratio', 'OppFT_Percent', 'OppMean_FTM',\n       'OppWin_Percent', 'OppSeed', 'TeamName'],\n      dtype='object')"
          },
          "metadata": {}
        }
      ],
      "execution_count": null
    },
    {
      "cell_type": "code",
      "source": [
        "features=['FG_Percent', 'ThreeFG_Percent','Mean_Rebounds','Median_Turnovers',\n",
        "          'Median_Fouls','AST_TO_Ratio','FT_Percent','Mean_FTM','Win_Percent',\n",
        "          'Seed','OppFG_Percent','OppThreeFG_Percent','OppMean_Rebounds',\n",
        "          'OppMedian_Turnovers','OppMedian_Fouls','OppAST_TO_Ratio','OppFT_Percent',\n",
        "          'OppMean_FTM','OppWin_Percent','OppSeed']"
      ],
      "metadata": {
        "trusted": true,
        "execution": {
          "iopub.status.busy": "2025-03-25T07:33:31.687074Z",
          "iopub.execute_input": "2025-03-25T07:33:31.687359Z",
          "iopub.status.idle": "2025-03-25T07:33:31.695957Z",
          "shell.execute_reply.started": "2025-03-25T07:33:31.687332Z",
          "shell.execute_reply": "2025-03-25T07:33:31.695191Z"
        },
        "id": "EsDa8IqHYTaA"
      },
      "outputs": [],
      "execution_count": null
    },
    {
      "cell_type": "code",
      "source": [
        "tournament_v2['Win'] = (tournament_v2.Result == 'W').astype('int')"
      ],
      "metadata": {
        "trusted": true,
        "execution": {
          "iopub.status.busy": "2025-03-25T07:33:31.696779Z",
          "iopub.execute_input": "2025-03-25T07:33:31.696976Z",
          "iopub.status.idle": "2025-03-25T07:33:31.707771Z",
          "shell.execute_reply.started": "2025-03-25T07:33:31.69696Z",
          "shell.execute_reply": "2025-03-25T07:33:31.707029Z"
        },
        "id": "vDS1KEIFYTaA"
      },
      "outputs": [],
      "execution_count": null
    },
    {
      "cell_type": "code",
      "source": [
        "X = tournament_v2[features]\n",
        "y= tournament_v2.Win"
      ],
      "metadata": {
        "trusted": true,
        "execution": {
          "iopub.status.busy": "2025-03-25T07:33:31.708496Z",
          "iopub.execute_input": "2025-03-25T07:33:31.708831Z",
          "iopub.status.idle": "2025-03-25T07:33:31.719388Z",
          "shell.execute_reply.started": "2025-03-25T07:33:31.708801Z",
          "shell.execute_reply": "2025-03-25T07:33:31.7186Z"
        },
        "id": "wT9PvkwNYTaA"
      },
      "outputs": [],
      "execution_count": null
    },
    {
      "cell_type": "code",
      "source": [
        "folds= GroupKFold(n_splits=tournament_v2.Season.nunique())\n",
        "crossval =[]\n",
        "models = []"
      ],
      "metadata": {
        "trusted": true,
        "execution": {
          "iopub.status.busy": "2025-03-25T07:33:31.720282Z",
          "iopub.execute_input": "2025-03-25T07:33:31.720564Z",
          "iopub.status.idle": "2025-03-25T07:33:31.731095Z",
          "shell.execute_reply.started": "2025-03-25T07:33:31.720545Z",
          "shell.execute_reply": "2025-03-25T07:33:31.7303Z"
        },
        "id": "bPtwDz_2YTaA"
      },
      "outputs": [],
      "execution_count": null
    },
    {
      "cell_type": "code",
      "source": [
        "groups= tournament_v2.Season\n",
        "seasons=groups.unique()"
      ],
      "metadata": {
        "trusted": true,
        "execution": {
          "iopub.status.busy": "2025-03-25T07:33:31.731892Z",
          "iopub.execute_input": "2025-03-25T07:33:31.73214Z",
          "iopub.status.idle": "2025-03-25T07:33:31.738635Z",
          "shell.execute_reply.started": "2025-03-25T07:33:31.732121Z",
          "shell.execute_reply": "2025-03-25T07:33:31.73777Z"
        },
        "id": "79AK3M3aYTaB"
      },
      "outputs": [],
      "execution_count": null
    },
    {
      "cell_type": "code",
      "source": [
        "holdout = 0\n",
        "for train_index, test_index in folds.split(X, y, groups):\n",
        "    X_train, X_test = X.iloc[train_index], X.iloc[test_index]\n",
        "    y_train, y_test = y.iloc[train_index], y.iloc[test_index]\n",
        "\n",
        "    # Prepare the model\n",
        "    model = RandomForestClassifier(\n",
        "        n_estimators=100,  # Number of trees\n",
        "        max_depth=None,    # Allow trees to grow fully\n",
        "        random_state=42\n",
        "    )\n",
        "    holdout_season = seasons[holdout]\n",
        "    print(f\"Holdout Season: {holdout_season}\")\n",
        "    # Train the model\n",
        "    model.fit(X_train, y_train)\n",
        "\n",
        "    # Predict probabilities for log loss\n",
        "    y_pred_proba = model.predict_proba(X_test)[:, 1]\n",
        "    score_ll = log_loss(y_test, y_pred_proba)\n",
        "\n",
        "    # Predict class labels for accuracy\n",
        "    y_pred = model.predict(X_test)\n",
        "    accuracy = accuracy_score(y_test, y_pred)\n",
        "\n",
        "    # Track results\n",
        "    crossval.append(accuracy)\n",
        "    holdout += 1\n",
        "    print(f\"Season {holdout_season}: Accuracy = {accuracy}, Log Loss = {score_ll}\")\n",
        "    models.append(model)\n",
        "\n",
        "# Print the average accuracy across all folds\n",
        "print(\"Average CV Accuracy:\", np.mean(crossval))\n"
      ],
      "metadata": {
        "trusted": true,
        "execution": {
          "iopub.status.busy": "2025-03-25T07:33:31.739574Z",
          "iopub.execute_input": "2025-03-25T07:33:31.739859Z",
          "iopub.status.idle": "2025-03-25T07:33:54.890657Z",
          "shell.execute_reply.started": "2025-03-25T07:33:31.739831Z",
          "shell.execute_reply": "2025-03-25T07:33:54.889744Z"
        },
        "id": "PWKnAl5NYTaB",
        "outputId": "d59dc67d-5239-4f81-f655-bc6423344c7c"
      },
      "outputs": [
        {
          "name": "stdout",
          "text": "Holdout Season: 2003\nSeason 2003: Accuracy = 0.7611940298507462, Log Loss = 0.5013563205717246\nHoldout Season: 2004\nSeason 2004: Accuracy = 0.7126865671641791, Log Loss = 0.576343373755956\nHoldout Season: 2005\nSeason 2005: Accuracy = 0.7126865671641791, Log Loss = 0.5730618947313261\nHoldout Season: 2006\nSeason 2006: Accuracy = 0.7461538461538462, Log Loss = 0.4879891900940406\nHoldout Season: 2007\nSeason 2007: Accuracy = 0.7192307692307692, Log Loss = 0.5383207059481757\nHoldout Season: 2008\nSeason 2008: Accuracy = 0.7307692307692307, Log Loss = 0.5286796478864159\nHoldout Season: 2009\nSeason 2009: Accuracy = 0.7384615384615385, Log Loss = 0.5145633769067902\nHoldout Season: 2010\nSeason 2010: Accuracy = 0.7038461538461539, Log Loss = 0.5570505088150675\nHoldout Season: 2011\nSeason 2011: Accuracy = 0.7846153846153846, Log Loss = 0.47808337677723917\nHoldout Season: 2012\nSeason 2012: Accuracy = 0.7807692307692308, Log Loss = 0.5052050613432724\nHoldout Season: 2013\nSeason 2013: Accuracy = 0.7307692307692307, Log Loss = 0.5761399813011315\nHoldout Season: 2014\nSeason 2014: Accuracy = 0.7076923076923077, Log Loss = 0.547105739522882\nHoldout Season: 2015\nSeason 2015: Accuracy = 0.7131782945736435, Log Loss = 0.5582120059446957\nHoldout Season: 2016\nSeason 2016: Accuracy = 0.7244094488188977, Log Loss = 0.5184353465319381\nHoldout Season: 2017\nSeason 2017: Accuracy = 0.734375, Log Loss = 0.4845480604206708\nHoldout Season: 2018\nSeason 2018: Accuracy = 0.7109375, Log Loss = 0.517806697246282\nHoldout Season: 2019\nSeason 2019: Accuracy = 0.796875, Log Loss = 0.4545698300415032\nHoldout Season: 2021\nSeason 2021: Accuracy = 0.6484375, Log Loss = 0.6235756872629639\nHoldout Season: 2022\nSeason 2022: Accuracy = 0.703125, Log Loss = 0.5665141582038493\nHoldout Season: 2023\nSeason 2023: Accuracy = 0.734375, Log Loss = 0.5639625428281443\nHoldout Season: 2024\nSeason 2024: Accuracy = 0.71875, Log Loss = 0.5129430665726683\nAverage CV Accuracy: 0.7292065523752066\n",
          "output_type": "stream"
        }
      ],
      "execution_count": null
    },
    {
      "cell_type": "code",
      "source": [
        "importance = model.feature_importances_\n",
        "\n",
        "# Display importance as a DataFrame\n",
        "importance_df = pd.DataFrame({\n",
        "    \"Feature\": features,\n",
        "    \"Importance\": importance\n",
        "}).sort_values(by=\"Importance\", ascending=False)"
      ],
      "metadata": {
        "trusted": true,
        "execution": {
          "iopub.status.busy": "2025-03-25T07:33:54.891392Z",
          "iopub.execute_input": "2025-03-25T07:33:54.891668Z",
          "iopub.status.idle": "2025-03-25T07:33:54.901733Z",
          "shell.execute_reply.started": "2025-03-25T07:33:54.891647Z",
          "shell.execute_reply": "2025-03-25T07:33:54.901068Z"
        },
        "id": "Y29m7G_mYTaB"
      },
      "outputs": [],
      "execution_count": null
    },
    {
      "cell_type": "code",
      "source": [
        "importance_df"
      ],
      "metadata": {
        "trusted": true,
        "execution": {
          "iopub.status.busy": "2025-03-25T07:33:54.902439Z",
          "iopub.execute_input": "2025-03-25T07:33:54.902747Z",
          "iopub.status.idle": "2025-03-25T07:33:54.951838Z",
          "shell.execute_reply.started": "2025-03-25T07:33:54.902712Z",
          "shell.execute_reply": "2025-03-25T07:33:54.950693Z"
        },
        "id": "mOUtUmDNYTaB",
        "outputId": "c1dd7fd0-4fba-4552-954f-a2bb59c98d0f"
      },
      "outputs": [
        {
          "execution_count": 50,
          "output_type": "execute_result",
          "data": {
            "text/plain": "                Feature  Importance\n19              OppSeed    0.124199\n9                  Seed    0.117133\n8           Win_Percent    0.057948\n18       OppWin_Percent    0.056893\n0            FG_Percent    0.056464\n10        OppFG_Percent    0.056013\n2         Mean_Rebounds    0.047060\n5          AST_TO_Ratio    0.046340\n15      OppAST_TO_Ratio    0.046336\n12     OppMean_Rebounds    0.045469\n7              Mean_FTM    0.043620\n17          OppMean_FTM    0.040859\n1       ThreeFG_Percent    0.039627\n11   OppThreeFG_Percent    0.039189\n16        OppFT_Percent    0.038758\n6            FT_Percent    0.036349\n4          Median_Fouls    0.029116\n14      OppMedian_Fouls    0.027819\n13  OppMedian_Turnovers    0.025517\n3      Median_Turnovers    0.025291",
            "text/html": "<div>\n<style scoped>\n    .dataframe tbody tr th:only-of-type {\n        vertical-align: middle;\n    }\n\n    .dataframe tbody tr th {\n        vertical-align: top;\n    }\n\n    .dataframe thead th {\n        text-align: right;\n    }\n</style>\n<table border=\"1\" class=\"dataframe\">\n  <thead>\n    <tr style=\"text-align: right;\">\n      <th></th>\n      <th>Feature</th>\n      <th>Importance</th>\n    </tr>\n  </thead>\n  <tbody>\n    <tr>\n      <th>19</th>\n      <td>OppSeed</td>\n      <td>0.124199</td>\n    </tr>\n    <tr>\n      <th>9</th>\n      <td>Seed</td>\n      <td>0.117133</td>\n    </tr>\n    <tr>\n      <th>8</th>\n      <td>Win_Percent</td>\n      <td>0.057948</td>\n    </tr>\n    <tr>\n      <th>18</th>\n      <td>OppWin_Percent</td>\n      <td>0.056893</td>\n    </tr>\n    <tr>\n      <th>0</th>\n      <td>FG_Percent</td>\n      <td>0.056464</td>\n    </tr>\n    <tr>\n      <th>10</th>\n      <td>OppFG_Percent</td>\n      <td>0.056013</td>\n    </tr>\n    <tr>\n      <th>2</th>\n      <td>Mean_Rebounds</td>\n      <td>0.047060</td>\n    </tr>\n    <tr>\n      <th>5</th>\n      <td>AST_TO_Ratio</td>\n      <td>0.046340</td>\n    </tr>\n    <tr>\n      <th>15</th>\n      <td>OppAST_TO_Ratio</td>\n      <td>0.046336</td>\n    </tr>\n    <tr>\n      <th>12</th>\n      <td>OppMean_Rebounds</td>\n      <td>0.045469</td>\n    </tr>\n    <tr>\n      <th>7</th>\n      <td>Mean_FTM</td>\n      <td>0.043620</td>\n    </tr>\n    <tr>\n      <th>17</th>\n      <td>OppMean_FTM</td>\n      <td>0.040859</td>\n    </tr>\n    <tr>\n      <th>1</th>\n      <td>ThreeFG_Percent</td>\n      <td>0.039627</td>\n    </tr>\n    <tr>\n      <th>11</th>\n      <td>OppThreeFG_Percent</td>\n      <td>0.039189</td>\n    </tr>\n    <tr>\n      <th>16</th>\n      <td>OppFT_Percent</td>\n      <td>0.038758</td>\n    </tr>\n    <tr>\n      <th>6</th>\n      <td>FT_Percent</td>\n      <td>0.036349</td>\n    </tr>\n    <tr>\n      <th>4</th>\n      <td>Median_Fouls</td>\n      <td>0.029116</td>\n    </tr>\n    <tr>\n      <th>14</th>\n      <td>OppMedian_Fouls</td>\n      <td>0.027819</td>\n    </tr>\n    <tr>\n      <th>13</th>\n      <td>OppMedian_Turnovers</td>\n      <td>0.025517</td>\n    </tr>\n    <tr>\n      <th>3</th>\n      <td>Median_Turnovers</td>\n      <td>0.025291</td>\n    </tr>\n  </tbody>\n</table>\n</div>"
          },
          "metadata": {}
        }
      ],
      "execution_count": null
    },
    {
      "cell_type": "code",
      "source": [
        "import xgboost as xgboost"
      ],
      "metadata": {
        "trusted": true,
        "execution": {
          "iopub.status.busy": "2025-03-25T07:33:54.953023Z",
          "iopub.execute_input": "2025-03-25T07:33:54.953334Z",
          "iopub.status.idle": "2025-03-25T07:33:55.309325Z",
          "shell.execute_reply.started": "2025-03-25T07:33:54.953304Z",
          "shell.execute_reply": "2025-03-25T07:33:55.308682Z"
        },
        "id": "OLHP1JjQYTaC"
      },
      "outputs": [],
      "execution_count": null
    },
    {
      "cell_type": "code",
      "source": [
        "seeds25=seeds.query('Season==2025')"
      ],
      "metadata": {
        "trusted": true,
        "execution": {
          "iopub.status.busy": "2025-03-25T07:33:55.31011Z",
          "iopub.execute_input": "2025-03-25T07:33:55.3104Z",
          "iopub.status.idle": "2025-03-25T07:33:55.318161Z",
          "shell.execute_reply.started": "2025-03-25T07:33:55.310371Z",
          "shell.execute_reply": "2025-03-25T07:33:55.317366Z"
        },
        "id": "46NJ-FHGYTaD"
      },
      "outputs": [],
      "execution_count": null
    },
    {
      "cell_type": "code",
      "source": [
        "opps25 = seeds25.rename(columns=lambda col: f\"Opp{col}\" if col != \"League\" and col != \"Season\" else col)\n"
      ],
      "metadata": {
        "trusted": true,
        "execution": {
          "iopub.status.busy": "2025-03-25T07:33:55.318975Z",
          "iopub.execute_input": "2025-03-25T07:33:55.319183Z",
          "iopub.status.idle": "2025-03-25T07:33:55.329673Z",
          "shell.execute_reply.started": "2025-03-25T07:33:55.319161Z",
          "shell.execute_reply": "2025-03-25T07:33:55.329008Z"
        },
        "id": "tJVZkpX1YTaD"
      },
      "outputs": [],
      "execution_count": null
    },
    {
      "cell_type": "code",
      "source": [
        "pairs = (\n",
        "    seeds25.merge(opps25,\n",
        "                 on=['League','Season']\n",
        "                 )\n",
        "    .query('TeamID!=OppTeamID')\n",
        ")"
      ],
      "metadata": {
        "trusted": true,
        "execution": {
          "iopub.status.busy": "2025-03-25T07:33:55.330353Z",
          "iopub.execute_input": "2025-03-25T07:33:55.330587Z",
          "iopub.status.idle": "2025-03-25T07:33:55.349065Z",
          "shell.execute_reply.started": "2025-03-25T07:33:55.330567Z",
          "shell.execute_reply": "2025-03-25T07:33:55.348511Z"
        },
        "id": "VR-87LwbYTaD"
      },
      "outputs": [],
      "execution_count": null
    },
    {
      "cell_type": "code",
      "source": [
        "pairs = (pairs.merge(\n",
        "    regular_agg_final[allcols],\n",
        "    on = ['Season','League','TeamID','Seed'],\n",
        "    how='left',\n",
        ").merge(\n",
        "    regular_agg_final[allcols].rename(\n",
        "        columns = lambda col: oppnamer(col)\n",
        "    ),\n",
        "    on=[\"Season\", \"League\", \"OppTeamID\",'OppSeed'],\n",
        ").reset_index(drop=True))"
      ],
      "metadata": {
        "trusted": true,
        "execution": {
          "iopub.status.busy": "2025-03-25T07:33:55.34974Z",
          "iopub.execute_input": "2025-03-25T07:33:55.34993Z",
          "iopub.status.idle": "2025-03-25T07:33:55.370386Z",
          "shell.execute_reply.started": "2025-03-25T07:33:55.349915Z",
          "shell.execute_reply": "2025-03-25T07:33:55.369827Z"
        },
        "id": "FLLVR5H8YTaE"
      },
      "outputs": [],
      "execution_count": null
    },
    {
      "cell_type": "code",
      "source": [
        "pairs.isna().sum()"
      ],
      "metadata": {
        "trusted": true,
        "execution": {
          "iopub.status.busy": "2025-03-25T07:33:55.371046Z",
          "iopub.execute_input": "2025-03-25T07:33:55.371291Z",
          "iopub.status.idle": "2025-03-25T07:33:55.378232Z",
          "shell.execute_reply.started": "2025-03-25T07:33:55.37127Z",
          "shell.execute_reply": "2025-03-25T07:33:55.377338Z"
        },
        "id": "mPTSTc4zYTaE",
        "outputId": "55c452d4-c86a-43d5-a8a0-5104a35234e4"
      },
      "outputs": [
        {
          "execution_count": 56,
          "output_type": "execute_result",
          "data": {
            "text/plain": "Season                 0\nSeed                   0\nTeamID                 0\nLeague                 0\nOppSeed                0\nOppTeamID              0\nFG_Percent             0\nThreeFG_Percent        0\nMean_Rebounds          0\nMedian_Turnovers       0\nMedian_Fouls           0\nAST_TO_Ratio           0\nFT_Percent             0\nMean_FTM               0\nWin_Percent            0\nOppFG_Percent          0\nOppThreeFG_Percent     0\nOppMean_Rebounds       0\nOppMedian_Turnovers    0\nOppMedian_Fouls        0\nOppAST_TO_Ratio        0\nOppFT_Percent          0\nOppMean_FTM            0\nOppWin_Percent         0\ndtype: int64"
          },
          "metadata": {}
        }
      ],
      "execution_count": null
    },
    {
      "cell_type": "code",
      "source": [
        "models"
      ],
      "metadata": {
        "trusted": true,
        "execution": {
          "iopub.status.busy": "2025-03-25T07:33:55.379232Z",
          "iopub.execute_input": "2025-03-25T07:33:55.379453Z",
          "iopub.status.idle": "2025-03-25T07:33:55.39537Z",
          "shell.execute_reply.started": "2025-03-25T07:33:55.37943Z",
          "shell.execute_reply": "2025-03-25T07:33:55.39461Z"
        },
        "id": "BIvGOrUbYTaE",
        "outputId": "37f813d3-a4db-4ccd-98f7-8fa7d0c52fed"
      },
      "outputs": [
        {
          "execution_count": 57,
          "output_type": "execute_result",
          "data": {
            "text/plain": "[RandomForestClassifier(random_state=42),\n RandomForestClassifier(random_state=42),\n RandomForestClassifier(random_state=42),\n RandomForestClassifier(random_state=42),\n RandomForestClassifier(random_state=42),\n RandomForestClassifier(random_state=42),\n RandomForestClassifier(random_state=42),\n RandomForestClassifier(random_state=42),\n RandomForestClassifier(random_state=42),\n RandomForestClassifier(random_state=42),\n RandomForestClassifier(random_state=42),\n RandomForestClassifier(random_state=42),\n RandomForestClassifier(random_state=42),\n RandomForestClassifier(random_state=42),\n RandomForestClassifier(random_state=42),\n RandomForestClassifier(random_state=42),\n RandomForestClassifier(random_state=42),\n RandomForestClassifier(random_state=42),\n RandomForestClassifier(random_state=42),\n RandomForestClassifier(random_state=42),\n RandomForestClassifier(random_state=42)]"
          },
          "metadata": {}
        }
      ],
      "execution_count": null
    },
    {
      "cell_type": "code",
      "source": [
        "pairs['pred'] = 0"
      ],
      "metadata": {
        "trusted": true,
        "execution": {
          "iopub.status.busy": "2025-03-25T07:33:55.39604Z",
          "iopub.execute_input": "2025-03-25T07:33:55.396226Z",
          "iopub.status.idle": "2025-03-25T07:33:55.400096Z",
          "shell.execute_reply.started": "2025-03-25T07:33:55.39621Z",
          "shell.execute_reply": "2025-03-25T07:33:55.399178Z"
        },
        "id": "6kpN3tWgYTaF"
      },
      "outputs": [],
      "execution_count": null
    },
    {
      "cell_type": "code",
      "source": [
        "# Replace infinite values with NaN\n",
        "pairs[features] = pairs[features].replace([np.inf, -np.inf], np.nan)\n"
      ],
      "metadata": {
        "trusted": true,
        "execution": {
          "iopub.status.busy": "2025-03-25T07:33:55.401017Z",
          "iopub.execute_input": "2025-03-25T07:33:55.401347Z",
          "iopub.status.idle": "2025-03-25T07:33:55.417275Z",
          "shell.execute_reply.started": "2025-03-25T07:33:55.401297Z",
          "shell.execute_reply": "2025-03-25T07:33:55.416374Z"
        },
        "id": "rrPFy69mYTaF"
      },
      "outputs": [],
      "execution_count": null
    },
    {
      "cell_type": "code",
      "source": [
        "pairs[features]=pairs[features].fillna(0)"
      ],
      "metadata": {
        "trusted": true,
        "execution": {
          "iopub.status.busy": "2025-03-25T07:33:55.418304Z",
          "iopub.execute_input": "2025-03-25T07:33:55.418634Z",
          "iopub.status.idle": "2025-03-25T07:33:55.428631Z",
          "shell.execute_reply.started": "2025-03-25T07:33:55.418595Z",
          "shell.execute_reply": "2025-03-25T07:33:55.427953Z"
        },
        "id": "ngQuD9JTYTaF"
      },
      "outputs": [],
      "execution_count": null
    },
    {
      "cell_type": "code",
      "source": [
        "for model in models:\n",
        "    pairs['pred'] += model.predict_proba(pairs[features])[:,1]"
      ],
      "metadata": {
        "trusted": true,
        "execution": {
          "iopub.status.busy": "2025-03-25T07:33:55.429364Z",
          "iopub.execute_input": "2025-03-25T07:33:55.429599Z",
          "iopub.status.idle": "2025-03-25T07:33:57.811341Z",
          "shell.execute_reply.started": "2025-03-25T07:33:55.42958Z",
          "shell.execute_reply": "2025-03-25T07:33:57.81046Z"
        },
        "id": "x_5LDAXpYTaF"
      },
      "outputs": [],
      "execution_count": null
    },
    {
      "cell_type": "code",
      "source": [
        "pairs['pred']/=len(models)"
      ],
      "metadata": {
        "trusted": true,
        "execution": {
          "iopub.status.busy": "2025-03-25T07:33:57.812353Z",
          "iopub.execute_input": "2025-03-25T07:33:57.812829Z",
          "iopub.status.idle": "2025-03-25T07:33:57.816992Z",
          "shell.execute_reply.started": "2025-03-25T07:33:57.812794Z",
          "shell.execute_reply": "2025-03-25T07:33:57.816052Z"
        },
        "id": "eYA2vcIGYTaG"
      },
      "outputs": [],
      "execution_count": null
    },
    {
      "cell_type": "code",
      "source": [
        "pairs.pred = pairs.pred.round(2)"
      ],
      "metadata": {
        "trusted": true,
        "execution": {
          "iopub.status.busy": "2025-03-25T07:33:57.818017Z",
          "iopub.execute_input": "2025-03-25T07:33:57.81834Z",
          "iopub.status.idle": "2025-03-25T07:33:57.829641Z",
          "shell.execute_reply.started": "2025-03-25T07:33:57.81831Z",
          "shell.execute_reply": "2025-03-25T07:33:57.828893Z"
        },
        "id": "GITZyA9IYTaG"
      },
      "outputs": [],
      "execution_count": null
    },
    {
      "cell_type": "code",
      "source": [
        "pairs[\"ID\"] = (\n",
        "    pairs[\"Season\"].astype(\"str\")+ \"_\"\n",
        "    + pairs[\"TeamID\"].astype(\"str\")\n",
        "    + \"_\"+ pairs[\"OppTeamID\"].astype(\"str\")\n",
        ")\n"
      ],
      "metadata": {
        "trusted": true,
        "execution": {
          "iopub.status.busy": "2025-03-25T07:33:57.830384Z",
          "iopub.execute_input": "2025-03-25T07:33:57.83065Z",
          "iopub.status.idle": "2025-03-25T07:33:57.850888Z",
          "shell.execute_reply.started": "2025-03-25T07:33:57.830617Z",
          "shell.execute_reply": "2025-03-25T07:33:57.850121Z"
        },
        "id": "Codb5E1pYTaG"
      },
      "outputs": [],
      "execution_count": null
    },
    {
      "cell_type": "code",
      "source": [
        "# Bracket simulation-\n",
        "# Code used from https://www.kaggle.com/code/lennarthaupts/simulate-n-brackets\n",
        "\n",
        "from tqdm import tqdm\n",
        "\n",
        "# Load and filter data\n",
        "round_slots = pd.read_csv('/kaggle/input/march-machine-learning-mania-2025/MNCAATourneySlots.csv')\n",
        "round_slots = round_slots[round_slots['Season'] == 2025]\n",
        "round_slots = round_slots[round_slots['Slot'].str.contains('R')] # Filter out First Four\n"
      ],
      "metadata": {
        "trusted": true,
        "execution": {
          "iopub.status.busy": "2025-03-25T07:33:57.851698Z",
          "iopub.execute_input": "2025-03-25T07:33:57.851899Z",
          "iopub.status.idle": "2025-03-25T07:33:57.86989Z",
          "shell.execute_reply.started": "2025-03-25T07:33:57.851882Z",
          "shell.execute_reply": "2025-03-25T07:33:57.869157Z"
        },
        "id": "_ETZX5HvYTaG"
      },
      "outputs": [],
      "execution_count": null
    },
    {
      "cell_type": "code",
      "source": [
        "seeds25 = pd.concat([pd.read_csv(path+\"MNCAATourneySeeds.csv\").assign(League=\"M\"),\n",
        "        pd.read_csv(path+\"WNCAATourneySeeds.csv\").assign(League=\"W\"),],).query('Season==2025').reset_index(drop=True)"
      ],
      "metadata": {
        "trusted": true,
        "execution": {
          "iopub.status.busy": "2025-03-25T07:33:57.870707Z",
          "iopub.execute_input": "2025-03-25T07:33:57.870911Z",
          "iopub.status.idle": "2025-03-25T07:33:57.88412Z",
          "shell.execute_reply.started": "2025-03-25T07:33:57.870893Z",
          "shell.execute_reply": "2025-03-25T07:33:57.883536Z"
        },
        "id": "wENkpTr1YTaG"
      },
      "outputs": [],
      "execution_count": null
    },
    {
      "cell_type": "code",
      "source": [
        "seeds25"
      ],
      "metadata": {
        "trusted": true,
        "execution": {
          "iopub.status.busy": "2025-03-25T07:33:57.884962Z",
          "iopub.execute_input": "2025-03-25T07:33:57.885256Z",
          "iopub.status.idle": "2025-03-25T07:33:57.893708Z",
          "shell.execute_reply.started": "2025-03-25T07:33:57.885227Z",
          "shell.execute_reply": "2025-03-25T07:33:57.892905Z"
        },
        "id": "yVlVK307YTaG",
        "outputId": "2d2f822e-66fd-4aa8-8d6c-b4e76f4e3a3b"
      },
      "outputs": [
        {
          "execution_count": 67,
          "output_type": "execute_result",
          "data": {
            "text/plain": "     Season Seed  TeamID League\n0      2025  W01    1181      M\n1      2025  W02    1104      M\n2      2025  W03    1458      M\n3      2025  W04    1112      M\n4      2025  W05    1332      M\n..      ...  ...     ...    ...\n131    2025  Z12    3193      W\n132    2025  Z13    3251      W\n133    2025  Z14    3195      W\n134    2025  Z15    3117      W\n135    2025  Z16    3422      W\n\n[136 rows x 4 columns]",
            "text/html": "<div>\n<style scoped>\n    .dataframe tbody tr th:only-of-type {\n        vertical-align: middle;\n    }\n\n    .dataframe tbody tr th {\n        vertical-align: top;\n    }\n\n    .dataframe thead th {\n        text-align: right;\n    }\n</style>\n<table border=\"1\" class=\"dataframe\">\n  <thead>\n    <tr style=\"text-align: right;\">\n      <th></th>\n      <th>Season</th>\n      <th>Seed</th>\n      <th>TeamID</th>\n      <th>League</th>\n    </tr>\n  </thead>\n  <tbody>\n    <tr>\n      <th>0</th>\n      <td>2025</td>\n      <td>W01</td>\n      <td>1181</td>\n      <td>M</td>\n    </tr>\n    <tr>\n      <th>1</th>\n      <td>2025</td>\n      <td>W02</td>\n      <td>1104</td>\n      <td>M</td>\n    </tr>\n    <tr>\n      <th>2</th>\n      <td>2025</td>\n      <td>W03</td>\n      <td>1458</td>\n      <td>M</td>\n    </tr>\n    <tr>\n      <th>3</th>\n      <td>2025</td>\n      <td>W04</td>\n      <td>1112</td>\n      <td>M</td>\n    </tr>\n    <tr>\n      <th>4</th>\n      <td>2025</td>\n      <td>W05</td>\n      <td>1332</td>\n      <td>M</td>\n    </tr>\n    <tr>\n      <th>...</th>\n      <td>...</td>\n      <td>...</td>\n      <td>...</td>\n      <td>...</td>\n    </tr>\n    <tr>\n      <th>131</th>\n      <td>2025</td>\n      <td>Z12</td>\n      <td>3193</td>\n      <td>W</td>\n    </tr>\n    <tr>\n      <th>132</th>\n      <td>2025</td>\n      <td>Z13</td>\n      <td>3251</td>\n      <td>W</td>\n    </tr>\n    <tr>\n      <th>133</th>\n      <td>2025</td>\n      <td>Z14</td>\n      <td>3195</td>\n      <td>W</td>\n    </tr>\n    <tr>\n      <th>134</th>\n      <td>2025</td>\n      <td>Z15</td>\n      <td>3117</td>\n      <td>W</td>\n    </tr>\n    <tr>\n      <th>135</th>\n      <td>2025</td>\n      <td>Z16</td>\n      <td>3422</td>\n      <td>W</td>\n    </tr>\n  </tbody>\n</table>\n<p>136 rows × 4 columns</p>\n</div>"
          },
          "metadata": {}
        }
      ],
      "execution_count": null
    },
    {
      "cell_type": "code",
      "source": [
        "seeds25.Seed.str"
      ],
      "metadata": {
        "trusted": true,
        "execution": {
          "iopub.status.busy": "2025-03-25T07:33:57.894403Z",
          "iopub.execute_input": "2025-03-25T07:33:57.894637Z",
          "iopub.status.idle": "2025-03-25T07:33:57.904069Z",
          "shell.execute_reply.started": "2025-03-25T07:33:57.894609Z",
          "shell.execute_reply": "2025-03-25T07:33:57.903374Z"
        },
        "id": "e0r8fnCMYTaG",
        "outputId": "fb8d6f48-f6f3-48c8-88db-4515ecc8a207"
      },
      "outputs": [
        {
          "execution_count": 68,
          "output_type": "execute_result",
          "data": {
            "text/plain": "<pandas.core.strings.accessor.StringMethods at 0x7c4a69f50610>"
          },
          "metadata": {}
        }
      ],
      "execution_count": null
    },
    {
      "cell_type": "code",
      "source": [
        "seeds25['Seed'] = (seeds25['Seed'].str.replace('a','').str.replace('b',''))"
      ],
      "metadata": {
        "trusted": true,
        "execution": {
          "iopub.status.busy": "2025-03-25T07:33:57.904826Z",
          "iopub.execute_input": "2025-03-25T07:33:57.905101Z",
          "iopub.status.idle": "2025-03-25T07:33:57.914661Z",
          "shell.execute_reply.started": "2025-03-25T07:33:57.905073Z",
          "shell.execute_reply": "2025-03-25T07:33:57.913912Z"
        },
        "id": "cEKbgDPEYTaH"
      },
      "outputs": [],
      "execution_count": null
    },
    {
      "cell_type": "code",
      "source": [
        "seeds_m=seeds25[seeds25.League == 'M']\n",
        "seeds_w=seeds25[seeds25.League == 'W']"
      ],
      "metadata": {
        "trusted": true,
        "execution": {
          "iopub.status.busy": "2025-03-25T07:33:57.915595Z",
          "iopub.execute_input": "2025-03-25T07:33:57.915786Z",
          "iopub.status.idle": "2025-03-25T07:33:57.925537Z",
          "shell.execute_reply.started": "2025-03-25T07:33:57.915769Z",
          "shell.execute_reply": "2025-03-25T07:33:57.924756Z"
        },
        "id": "YsR9IhQTYTaH"
      },
      "outputs": [],
      "execution_count": null
    },
    {
      "cell_type": "code",
      "source": [
        "pairs['ID'] = pairs['ID'].str.split('_')"
      ],
      "metadata": {
        "trusted": true,
        "execution": {
          "iopub.status.busy": "2025-03-25T07:33:57.926229Z",
          "iopub.execute_input": "2025-03-25T07:33:57.926452Z",
          "iopub.status.idle": "2025-03-25T07:33:57.937592Z",
          "shell.execute_reply.started": "2025-03-25T07:33:57.926428Z",
          "shell.execute_reply": "2025-03-25T07:33:57.936965Z"
        },
        "id": "Z3qM4bgaYTaH"
      },
      "outputs": [],
      "execution_count": null
    },
    {
      "cell_type": "code",
      "source": [
        "pairs['ID']"
      ],
      "metadata": {
        "trusted": true,
        "execution": {
          "iopub.status.busy": "2025-03-25T07:33:57.938286Z",
          "iopub.execute_input": "2025-03-25T07:33:57.938533Z",
          "iopub.status.idle": "2025-03-25T07:33:57.949589Z",
          "shell.execute_reply.started": "2025-03-25T07:33:57.93851Z",
          "shell.execute_reply": "2025-03-25T07:33:57.948942Z"
        },
        "id": "FXbgdUbCYTaH",
        "outputId": "c74716cb-8f55-4a60-fd58-6562125957c7"
      },
      "outputs": [
        {
          "execution_count": 72,
          "output_type": "execute_result",
          "data": {
            "text/plain": "0       [2025, 1181, 1104]\n1       [2025, 1181, 1458]\n2       [2025, 1181, 1112]\n3       [2025, 1181, 1332]\n4       [2025, 1181, 1140]\n               ...        \n9107    [2025, 3422, 3293]\n9108    [2025, 3422, 3193]\n9109    [2025, 3422, 3251]\n9110    [2025, 3422, 3195]\n9111    [2025, 3422, 3117]\nName: ID, Length: 9112, dtype: object"
          },
          "metadata": {}
        }
      ],
      "execution_count": null
    },
    {
      "cell_type": "code",
      "source": [
        "def prepare_data(seeds, preds):\n",
        "    # Function preparing the data for the simulation\n",
        "    seed_dict = seeds.set_index(\"Seed\")[\"TeamID\"].to_dict()\n",
        "    inverted_seed_dict = {value: key for key, value in seed_dict.items()}\n",
        "    probas_dict = {}\n",
        "\n",
        "    for teams, proba in zip(preds[\"ID\"], preds[\"pred\"]):\n",
        "        team1, team2 = teams[1], teams[2]\n",
        "        # print(team1,team2)\n",
        "        probas_dict.setdefault(team1, {})[team2] = proba\n",
        "        probas_dict.setdefault(team2, {})[team1] = 1 - proba\n",
        "    # print(teams,team1)\n",
        "    return seed_dict, inverted_seed_dict, probas_dict\n",
        "\n",
        "\n",
        "def simulate(round_slots, seeds, inverted_seeds, probas, sim=True):\n",
        "    \"\"\"\n",
        "    Simulates each round of the tournament.\n",
        "\n",
        "    Parameters:\n",
        "    - round_slots: DataFrame containing information on who is playing in each round.\n",
        "    - seeds (dict): Dictionary mapping seed values to team IDs.\n",
        "    - inverted_seeds (dict): Dictionary mapping team IDs to seed values.\n",
        "    - probas (dict): Dictionary containing matchup probabilities.\n",
        "    - sim (boolean): Simulates match if True. Chooses team with higher probability as winner otherwise.\n",
        "\n",
        "    Returns:\n",
        "    - list: List with winning team IDs for each match.\n",
        "    - list: List with corresponding slot names for each match.\n",
        "    \"\"\"\n",
        "    winners = []\n",
        "    slots = []\n",
        "    # print(seeds)\n",
        "    for slot, strong, weak in zip(\n",
        "        round_slots.Slot, round_slots.StrongSeed, round_slots.WeakSeed\n",
        "    ):\n",
        "        team_1, team_2 = seeds[strong], seeds[weak]\n",
        "        # print(team_1,team_2)\n",
        "        # print(seeds)\n",
        "        # Get the probability of team_1 winning\n",
        "        # print(probas)\n",
        "        proba = probas[str(team_1)][str(team_2)]\n",
        "\n",
        "        if sim:\n",
        "            # Randomly determine the winner based on the probability\n",
        "            winner = np.random.choice([team_1, team_2], p=[proba, 1 - proba])\n",
        "        else:\n",
        "            # Determine the winner based on the higher probability\n",
        "            winner = [team_1, team_2][np.argmax([proba, 1 - proba])]\n",
        "\n",
        "        # Append the winner and corresponding slot to the lists\n",
        "        winners.append(winner)\n",
        "        slots.append(slot)\n",
        "\n",
        "        seeds[slot] = winner\n",
        "\n",
        "    # Convert winners to original seeds using the inverted_seeds dictionary\n",
        "    return [inverted_seeds[w] for w in winners], slots\n",
        "\n",
        "\n",
        "def run_simulation(brackets=1, seeds=None, preds=None, round_slots=None, sim=True):\n",
        "    \"\"\"\n",
        "    Runs a simulation of bracket tournaments.\n",
        "\n",
        "    Parameters:\n",
        "    - brackets (int): Number of brackets to simulate.\n",
        "    - seeds (pd.DataFrame): DataFrame containing seed information.\n",
        "    - preds (pd.DataFrame): DataFrame containing prediction information for each match-up.\n",
        "    - round_slots (pd.DataFrame): DataFrame containing information about the tournament rounds.\n",
        "    - sim (boolean): Simulates matches if True. Chooses team with higher probability as winner otherwise.\n",
        "\n",
        "    Returns:\n",
        "    - pd.DataFrame: DataFrame with simulation results.\n",
        "    \"\"\"\n",
        "    # Get relevant data for the simulation\n",
        "    seed_dict, inverted_seed_dict, probas_dict = prepare_data(seeds, preds)\n",
        "    # Lists to store simulation results\n",
        "    results = []\n",
        "    bracket = []\n",
        "    slots = []\n",
        "\n",
        "    # Iterate through the specified number of brackets\n",
        "    for b in tqdm(range(1, brackets + 1)):\n",
        "        # Run single simulation\n",
        "        r, s = simulate(round_slots, seed_dict, inverted_seed_dict, probas_dict, sim)\n",
        "\n",
        "        # Update results\n",
        "        results.extend(r)\n",
        "        bracket.extend([b] * len(r))\n",
        "        slots.extend(s)\n",
        "\n",
        "    # Create final DataFrame\n",
        "    result_df = pd.DataFrame({\"Bracket\": bracket, \"Slot\": slots, \"Team\": results})\n",
        "\n",
        "    return result_df\n",
        "\n",
        "\n",
        "n_brackets = 1000\n",
        "result_m = run_simulation(\n",
        "    brackets=n_brackets, seeds=seeds_m, preds=pairs, round_slots=round_slots, sim=False\n",
        ")\n",
        "result_m[\"League\"] = \"M\"\n",
        "result_w = run_simulation(\n",
        "    brackets=n_brackets, seeds=seeds_w, preds=pairs, round_slots=round_slots, sim=False\n",
        ")\n",
        "result_w[\"League\"] = \"W\"\n",
        "sim_df = pd.concat([result_m, result_w])\n",
        "sim_df.reset_index(drop=True,inplace=True)\n"
      ],
      "metadata": {
        "trusted": true,
        "execution": {
          "iopub.status.busy": "2025-03-25T07:34:46.610928Z",
          "iopub.execute_input": "2025-03-25T07:34:46.611229Z",
          "iopub.status.idle": "2025-03-25T07:34:47.335666Z",
          "shell.execute_reply.started": "2025-03-25T07:34:46.611205Z",
          "shell.execute_reply": "2025-03-25T07:34:47.334889Z"
        },
        "id": "mkLjgt9FYTaH",
        "outputId": "e987f068-6ce1-479c-a6f4-72389c59c788"
      },
      "outputs": [
        {
          "name": "stderr",
          "text": "100%|██████████| 1000/1000 [00:00<00:00, 3273.13it/s]\n100%|██████████| 1000/1000 [00:00<00:00, 2927.23it/s]\n",
          "output_type": "stream"
        }
      ],
      "execution_count": null
    },
    {
      "cell_type": "code",
      "source": [
        "sim_df"
      ],
      "metadata": {
        "trusted": true,
        "execution": {
          "iopub.status.busy": "2025-03-25T07:34:50.064095Z",
          "iopub.execute_input": "2025-03-25T07:34:50.064382Z",
          "iopub.status.idle": "2025-03-25T07:34:50.074867Z",
          "shell.execute_reply.started": "2025-03-25T07:34:50.064359Z",
          "shell.execute_reply": "2025-03-25T07:34:50.074117Z"
        },
        "id": "6mQhygJdYTaH",
        "outputId": "a0df9b4e-684e-42ec-a6e6-e942b0cedd59"
      },
      "outputs": [
        {
          "execution_count": 77,
          "output_type": "execute_result",
          "data": {
            "text/plain": "        Bracket  Slot Team League\n0             1  R1W1  W01      M\n1             1  R1W2  W02      M\n2             1  R1W3  W03      M\n3             1  R1W4  W04      M\n4             1  R1W5  W05      M\n...         ...   ...  ...    ...\n125995     1000  R4Y1  Y01      W\n125996     1000  R4Z1  Z02      W\n125997     1000  R5WX  X02      W\n125998     1000  R5YZ  Z02      W\n125999     1000  R6CH  Z02      W\n\n[126000 rows x 4 columns]",
            "text/html": "<div>\n<style scoped>\n    .dataframe tbody tr th:only-of-type {\n        vertical-align: middle;\n    }\n\n    .dataframe tbody tr th {\n        vertical-align: top;\n    }\n\n    .dataframe thead th {\n        text-align: right;\n    }\n</style>\n<table border=\"1\" class=\"dataframe\">\n  <thead>\n    <tr style=\"text-align: right;\">\n      <th></th>\n      <th>Bracket</th>\n      <th>Slot</th>\n      <th>Team</th>\n      <th>League</th>\n    </tr>\n  </thead>\n  <tbody>\n    <tr>\n      <th>0</th>\n      <td>1</td>\n      <td>R1W1</td>\n      <td>W01</td>\n      <td>M</td>\n    </tr>\n    <tr>\n      <th>1</th>\n      <td>1</td>\n      <td>R1W2</td>\n      <td>W02</td>\n      <td>M</td>\n    </tr>\n    <tr>\n      <th>2</th>\n      <td>1</td>\n      <td>R1W3</td>\n      <td>W03</td>\n      <td>M</td>\n    </tr>\n    <tr>\n      <th>3</th>\n      <td>1</td>\n      <td>R1W4</td>\n      <td>W04</td>\n      <td>M</td>\n    </tr>\n    <tr>\n      <th>4</th>\n      <td>1</td>\n      <td>R1W5</td>\n      <td>W05</td>\n      <td>M</td>\n    </tr>\n    <tr>\n      <th>...</th>\n      <td>...</td>\n      <td>...</td>\n      <td>...</td>\n      <td>...</td>\n    </tr>\n    <tr>\n      <th>125995</th>\n      <td>1000</td>\n      <td>R4Y1</td>\n      <td>Y01</td>\n      <td>W</td>\n    </tr>\n    <tr>\n      <th>125996</th>\n      <td>1000</td>\n      <td>R4Z1</td>\n      <td>Z02</td>\n      <td>W</td>\n    </tr>\n    <tr>\n      <th>125997</th>\n      <td>1000</td>\n      <td>R5WX</td>\n      <td>X02</td>\n      <td>W</td>\n    </tr>\n    <tr>\n      <th>125998</th>\n      <td>1000</td>\n      <td>R5YZ</td>\n      <td>Z02</td>\n      <td>W</td>\n    </tr>\n    <tr>\n      <th>125999</th>\n      <td>1000</td>\n      <td>R6CH</td>\n      <td>Z02</td>\n      <td>W</td>\n    </tr>\n  </tbody>\n</table>\n<p>126000 rows × 4 columns</p>\n</div>"
          },
          "metadata": {}
        }
      ],
      "execution_count": null
    },
    {
      "cell_type": "code",
      "source": [
        "!git clone https://github.com/sachinsaraff10/March-madness.git"
      ],
      "metadata": {
        "id": "c0ie0zlZYaoA",
        "outputId": "35f16fcf-6365-44fe-eabc-339fabe55868",
        "colab": {
          "base_uri": "https://localhost:8080/"
        }
      },
      "execution_count": null,
      "outputs": [
        {
          "output_type": "stream",
          "name": "stdout",
          "text": [
            "Cloning into 'March-madness'...\n",
            "warning: You appear to have cloned an empty repository.\n"
          ]
        }
      ]
    },
    {
      "cell_type": "code",
      "source": [
        "!pwd"
      ],
      "metadata": {
        "id": "aFy7cV6sY44r",
        "colab": {
          "base_uri": "https://localhost:8080/"
        },
        "outputId": "62458f08-677c-4ea1-8b0a-ca7fe79a1198"
      },
      "execution_count": 3,
      "outputs": [
        {
          "output_type": "stream",
          "name": "stdout",
          "text": [
            "/content\n"
          ]
        }
      ]
    }
  ]
}